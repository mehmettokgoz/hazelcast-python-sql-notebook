{
 "cells": [
  {
   "cell_type": "markdown",
   "id": "833e4837",
   "metadata": {},
   "source": [
    "# Hazelcast Python Client SQL Support Example 🥑"
   ]
  },
  {
   "cell_type": "markdown",
   "id": "887e833a",
   "metadata": {},
   "source": [
    "This notebook shows the type of operations you can do on Hazelcast Map using the SQL queries. Hazelcast provides an \n",
    "\n",
    "\n",
    "To use Hazelcast, you must either install Hazelcast 4.x/5.x or use Hazelcast Cloud service to connect. For simplicity, I will be using Cloud. You can start a cluster locally.  \n",
    "\n",
    "Lorem ipsum dolor sit amet, consectetur adipiscing elit. Fusce vitae consectetur lacus. Pellentesque elementum varius sollicitudin. Nunc eleifend laoreet lorem, vitae venenatis dui dictum sed. Sed at urna vitae augue suscipit sollicitudin nec porttitor dui. Pellentesque ut bibendum massa, non porttitor mauris. Aliquam quis tellus mi. Curabitur vel convallis eros, sit amet gravida lectus.\n",
    "\n",
    "Lorem ipsum dolor sit amet, consectetur adipiscing elit. Fusce vitae consectetur lacus. Pellentesque elementum varius sollicitudin. Nunc eleifend laoreet lorem, vitae venenatis dui dictum sed. Sed at urna vitae augue suscipit sollicitudin nec porttitor dui. Pellentesque ut bibendum massa, non porttitor mauris. Aliquam quis tellus mi. Curabitur vel convallis eros, sit amet gravida lectus."
   ]
  },
  {
   "cell_type": "code",
   "execution_count": null,
   "id": "1ac0e5af",
   "metadata": {},
   "outputs": [],
   "source": [
    "pip install hazelcast-python-client"
   ]
  },
  {
   "cell_type": "code",
   "execution_count": null,
   "id": "b7a21adb",
   "metadata": {},
   "outputs": [],
   "source": [
    "pip install requests"
   ]
  },
  {
   "cell_type": "markdown",
   "id": "99244efc",
   "metadata": {},
   "source": [
    "Lorem ipsum dolor sit amet, consectetur adipiscing elit. Fusce vitae consectetur lacus. Pellentesque elementum varius sollicitudin. Nunc eleifend laoreet lorem, vitae venenatis dui dictum sed. Sed at urna vitae augue suscipit sollicitudin nec porttitor dui.\n",
    "\n",
    "Pellentesque ut bibendum massa, non porttitor mauris. Aliquam quis tellus mi. Curabitur vel convallis eros, sit amet gravida lectus."
   ]
  },
  {
   "cell_type": "code",
   "execution_count": 4,
   "id": "90cb78ce",
   "metadata": {},
   "outputs": [],
   "source": [
    "import hazelcast\n",
    "import requests\n",
    "from hazelcast.discovery import HazelcastCloudDiscovery\n",
    "from hazelcast.core import HazelcastJsonValue"
   ]
  },
  {
   "cell_type": "markdown",
   "id": "27223cee",
   "metadata": {},
   "source": [
    "Now, we have installed all the packages we need. 👏👌\n",
    "\n",
    "We can connect to our Hazelcast cluster using Hazelcast Python Client. In order to use Hazelcast functions, we can call hazelcast.functionName() syntax. `HazelcastClient()` function connects current application to our Hazelcast Cluster. To simplify operations, I will directly connect to Hazelcast Cloud and do not try to install Hazelcast locally. You can either create an Cloud account or install Hazelcast 5.x locally and run `hz start` command from your command prompt."
   ]
  },
  {
   "cell_type": "code",
   "execution_count": 5,
   "id": "ed64bb89",
   "metadata": {},
   "outputs": [
    {
     "name": "stdout",
     "output_type": "stream",
     "text": [
      "Connection successfull.\n"
     ]
    }
   ],
   "source": [
    "client = hazelcast.HazelcastClient()\n",
    "\n",
    "print(\"Connection successfull.\")"
   ]
  },
  {
   "cell_type": "markdown",
   "id": "274a4a63",
   "metadata": {},
   "source": [
    "Lorem ipsum dolor sit amet, consectetur adipiscing elit. Fusce vitae consectetur lacus. Pellentesque elementum varius sollicitudin. Nunc eleifend laoreet lorem, vitae venenatis dui dictum sed. Sed at urna vitae augue suscipit sollicitudin nec porttitor dui.\n",
    "\n",
    "Pellentesque ut bibendum massa, non porttitor mauris. Aliquam quis tellus mi. Curabitur vel convallis eros, sit amet gravida lectus."
   ]
  },
  {
   "cell_type": "code",
   "execution_count": 6,
   "id": "793ce8b3",
   "metadata": {
    "scrolled": true
   },
   "outputs": [],
   "source": [
    "people = client.get_map(\"people\").blocking()\n",
    "\n",
    "starships = client.get_map(\"starships\").blocking()\n",
    "\n",
    "planets = client.get_map(\"planets\").blocking()"
   ]
  },
  {
   "cell_type": "markdown",
   "id": "2d31fabc",
   "metadata": {},
   "source": [
    "Lorem ipsum dolor sit amet, consectetur adipiscing elit. Fusce vitae consectetur lacus. Pellentesque elementum varius sollicitudin. Nunc eleifend laoreet lorem, vitae venenatis dui dictum sed. Sed at urna vitae augue suscipit sollicitudin nec porttitor dui.\n",
    "\n",
    "Pellentesque ut bibendum massa, non porttitor mauris. Aliquam quis tellus mi. Curabitur vel convallis eros, sit amet gravida lectus."
   ]
  },
  {
   "cell_type": "code",
   "execution_count": 7,
   "id": "10430043",
   "metadata": {},
   "outputs": [],
   "source": [
    "def create_mapping(hz_client):\n",
    "    # see: https://docs.hazelcast.com/hazelcast/5.0/sql/mapping-to-maps#json-objects\n",
    "    print(\"Creating mapping for countries...\")\n",
    "\n",
    "    mapping_query = \"\"\"\n",
    "        CREATE OR REPLACE MAPPING people (\n",
    "            __key VARCHAR, \n",
    "            name VARCHAR, \n",
    "            height VARCHAR,\n",
    "            mass VARCHAR,\n",
    "            hair_color VARCHAR,\n",
    "            skin_color VARCHAR,\n",
    "            homeworld VARCHAR,\n",
    "            gender VARCHAR\n",
    "        )\n",
    "        TYPE IMap OPTIONS(\n",
    "            'keyFormat' = 'varchar',\n",
    "            'valueFormat' = 'json-flat'\n",
    "        )\n",
    "    \"\"\"\n",
    "    hz_client.sql.execute(mapping_query).result()\n",
    "    print(\"Mapping for countries has been created.\")\n",
    "    print(\"--------------------\")\n"
   ]
  },
  {
   "cell_type": "code",
   "execution_count": 8,
   "id": "09dfac8e",
   "metadata": {},
   "outputs": [],
   "source": [
    "def create_mapping_planets(hz_client):\n",
    "    # see: https://docs.hazelcast.com/hazelcast/5.0/sql/mapping-to-maps#json-objects\n",
    "    print(\"Creating mapping for planets...\")\n",
    "\n",
    "    mapping_query = \"\"\"\n",
    "        CREATE OR REPLACE MAPPING planets (\n",
    "            __key VARCHAR, \n",
    "            name VARCHAR, \n",
    "            rotation_period VARCHAR,\n",
    "            orbital_period VARCHAR,\n",
    "            diameter VARCHAR,\n",
    "            climate VARCHAR,\n",
    "            gravity VARCHAR,\n",
    "            terrain VARCHAR,\n",
    "            surface_water VARCHAR,\n",
    "            population VARCHAR,\n",
    "            url VARCHAR\n",
    "        )\n",
    "        TYPE IMap OPTIONS(\n",
    "            'keyFormat' = 'varchar',\n",
    "            'valueFormat' = 'json-flat'\n",
    "        )\n",
    "    \"\"\"\n",
    "    hz_client.sql.execute(mapping_query).result()\n",
    "    print(\"Mapping for countries has been created.\")\n",
    "    print(\"--------------------\")\n"
   ]
  },
  {
   "cell_type": "code",
   "execution_count": 27,
   "id": "b6143a08",
   "metadata": {},
   "outputs": [],
   "source": [
    "def create_mapping_ships(hz_client):\n",
    "    print(\"Creating mapping for planets...\")\n",
    "\n",
    "    mapping_query = \"\"\"\n",
    "        CREATE OR REPLACE MAPPING starships (\n",
    "            __key VARCHAR, \n",
    "            name VARCHAR,\n",
    "            model VARCHAR,\n",
    "            manufacturer VARCHAR,\n",
    "            cost_in_credits VARCHAR,\n",
    "            length VARCHAR,\n",
    "            max_atmosphering_speed VARCHAR,\n",
    "            crew VARCHAR,\n",
    "            passengers VARCHAR,\n",
    "            cargo_capacity VARCHAR,\n",
    "            consumables VARCHAR,\n",
    "            hyperdrive_rating VARCHAR,\n",
    "            MGLT VARCHAR,\n",
    "            starship_class VARCHAR\n",
    "        )\n",
    "        TYPE IMap OPTIONS(\n",
    "            'keyFormat' = 'varchar',\n",
    "            'valueFormat' = 'json-flat'\n",
    "        )\n",
    "    \"\"\"\n",
    "    hz_client.sql.execute(mapping_query).result()\n",
    "    print(\"Mapping for countries has been created.\")\n",
    "    print(\"--------------------\")\n"
   ]
  },
  {
   "cell_type": "code",
   "execution_count": 28,
   "id": "3bf5c79d",
   "metadata": {},
   "outputs": [
    {
     "name": "stdout",
     "output_type": "stream",
     "text": [
      "Creating mapping for countries...\n",
      "Mapping for countries has been created.\n",
      "--------------------\n",
      "Creating mapping for planets...\n",
      "Mapping for countries has been created.\n",
      "--------------------\n",
      "Creating mapping for planets...\n",
      "Mapping for countries has been created.\n",
      "--------------------\n"
     ]
    }
   ],
   "source": [
    "create_mapping(client)\n",
    "create_mapping_planets(client)\n",
    "create_mapping_ships(client)"
   ]
  },
  {
   "cell_type": "code",
   "execution_count": null,
   "id": "7c252deb",
   "metadata": {},
   "outputs": [],
   "source": [
    "def load_people(mp):\n",
    "    for i in range(1,50):\n",
    "        x = requests.get('https://swapi.dev/api/people/' + str(i))\n",
    "        print(i)\n",
    "        people.put(str(i), HazelcastJsonValue(x.text))\n",
    "    print(\"Data has been loaded.\")"
   ]
  },
  {
   "cell_type": "code",
   "execution_count": null,
   "id": "21f77df3",
   "metadata": {},
   "outputs": [],
   "source": [
    "load_people(my_map)"
   ]
  },
  {
   "cell_type": "code",
   "execution_count": null,
   "id": "e3ffc49e",
   "metadata": {},
   "outputs": [],
   "source": [
    "def load_planets():\n",
    "    for i in range(1,60):\n",
    "        x = requests.get('https://swapi.dev/api/planets/' + str(i))\n",
    "        print(i)\n",
    "        planets.put(str(i), HazelcastJsonValue(x.text))\n",
    "    print(\"Data has been loaded.\")"
   ]
  },
  {
   "cell_type": "code",
   "execution_count": null,
   "id": "20982d59",
   "metadata": {},
   "outputs": [],
   "source": [
    "load_planets()"
   ]
  },
  {
   "cell_type": "code",
   "execution_count": null,
   "id": "a337fd42",
   "metadata": {},
   "outputs": [],
   "source": [
    "def load_ships():\n",
    "    for i in range(1,36):\n",
    "        x = requests.get('https://swapi.dev/api/starships/' + str(i))\n",
    "        print(i)\n",
    "        starships.put(str(i), HazelcastJsonValue(x.text))\n",
    "    print(\"Data has been loaded.\")"
   ]
  },
  {
   "cell_type": "code",
   "execution_count": null,
   "id": "4bf9ee7f",
   "metadata": {},
   "outputs": [],
   "source": [
    "load_ships()"
   ]
  }
 ],
 "metadata": {
  "kernelspec": {
   "display_name": "Python 3 (ipykernel)",
   "language": "python",
   "name": "python3"
  },
  "language_info": {
   "codemirror_mode": {
    "name": "ipython",
    "version": 3
   },
   "file_extension": ".py",
   "mimetype": "text/x-python",
   "name": "python",
   "nbconvert_exporter": "python",
   "pygments_lexer": "ipython3",
   "version": "3.10.5"
  }
 },
 "nbformat": 4,
 "nbformat_minor": 5
}
