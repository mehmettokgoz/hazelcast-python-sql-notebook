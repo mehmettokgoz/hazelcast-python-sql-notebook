{
 "cells": [
  {
   "cell_type": "markdown",
   "id": "1a981ad9",
   "metadata": {
    "id": "1a981ad9"
   },
   "source": [
    "# Hazelcast Python Client SQL Support Notebook\n",
    "\n",
    "This notebook shows example usage of Hazelcast Python Client using SQL functions. Hazelcast provides in-depth SQL support for your data kept in Hazelcast clusters. You can create a mapping between a database table and your data resource and execute SQL queries on the map. \n",
    "\n",
    "\n",
    "To simplify setup, this tutorial uses Hazelcast Cloud for the cluster service. Hazelcast Cloud offers free registration with 200MB storage area. You can register the Hazelcast Cloud using following link and create a cluster in few minutes: https://cloud.hazelcast.com/. You can follow this tutorial to create a cluster in Cloud. If you have any issue, you can ask your questions in Hazelcast Community Slack channel. "
   ]
  },
  {
   "cell_type": "code",
   "execution_count": 9,
   "id": "16d89415",
   "metadata": {},
   "outputs": [
    {
     "name": "stdout",
     "output_type": "stream",
     "text": [
      "/Users/hazelcast/.zshenv:1: permission denied: /Users/hazelcast/Desktop\n",
      "Requirement already satisfied: ipywidgets in /Library/Frameworks/Python.framework/Versions/3.10/lib/python3.10/site-packages (7.7.1)\n",
      "Requirement already satisfied: widgetsnbextension~=3.6.0 in /Library/Frameworks/Python.framework/Versions/3.10/lib/python3.10/site-packages (from ipywidgets) (3.6.1)\n",
      "Requirement already satisfied: ipykernel>=4.5.1 in /Library/Frameworks/Python.framework/Versions/3.10/lib/python3.10/site-packages (from ipywidgets) (6.15.1)\n",
      "Requirement already satisfied: jupyterlab-widgets>=1.0.0 in /Library/Frameworks/Python.framework/Versions/3.10/lib/python3.10/site-packages (from ipywidgets) (1.1.1)\n",
      "Requirement already satisfied: ipython>=4.0.0 in /Library/Frameworks/Python.framework/Versions/3.10/lib/python3.10/site-packages (from ipywidgets) (8.4.0)\n",
      "Requirement already satisfied: ipython-genutils~=0.2.0 in /Library/Frameworks/Python.framework/Versions/3.10/lib/python3.10/site-packages (from ipywidgets) (0.2.0)\n",
      "Requirement already satisfied: traitlets>=4.3.1 in /Library/Frameworks/Python.framework/Versions/3.10/lib/python3.10/site-packages (from ipywidgets) (5.3.0)\n",
      "Requirement already satisfied: packaging in /Library/Frameworks/Python.framework/Versions/3.10/lib/python3.10/site-packages (from ipykernel>=4.5.1->ipywidgets) (21.3)\n",
      "Requirement already satisfied: tornado>=6.1 in /Library/Frameworks/Python.framework/Versions/3.10/lib/python3.10/site-packages (from ipykernel>=4.5.1->ipywidgets) (6.2)\n",
      "Requirement already satisfied: jupyter-client>=6.1.12 in /Library/Frameworks/Python.framework/Versions/3.10/lib/python3.10/site-packages (from ipykernel>=4.5.1->ipywidgets) (7.3.4)\n",
      "Requirement already satisfied: psutil in /Library/Frameworks/Python.framework/Versions/3.10/lib/python3.10/site-packages (from ipykernel>=4.5.1->ipywidgets) (5.9.1)\n",
      "Requirement already satisfied: matplotlib-inline>=0.1 in /Library/Frameworks/Python.framework/Versions/3.10/lib/python3.10/site-packages (from ipykernel>=4.5.1->ipywidgets) (0.1.3)\n",
      "Requirement already satisfied: appnope in /Library/Frameworks/Python.framework/Versions/3.10/lib/python3.10/site-packages (from ipykernel>=4.5.1->ipywidgets) (0.1.3)\n",
      "Requirement already satisfied: nest-asyncio in /Library/Frameworks/Python.framework/Versions/3.10/lib/python3.10/site-packages (from ipykernel>=4.5.1->ipywidgets) (1.5.5)\n",
      "Requirement already satisfied: debugpy>=1.0 in /Library/Frameworks/Python.framework/Versions/3.10/lib/python3.10/site-packages (from ipykernel>=4.5.1->ipywidgets) (1.6.2)\n",
      "Requirement already satisfied: pyzmq>=17 in /Library/Frameworks/Python.framework/Versions/3.10/lib/python3.10/site-packages (from ipykernel>=4.5.1->ipywidgets) (23.2.0)\n",
      "Requirement already satisfied: setuptools>=18.5 in /Library/Frameworks/Python.framework/Versions/3.10/lib/python3.10/site-packages (from ipython>=4.0.0->ipywidgets) (58.1.0)\n",
      "Requirement already satisfied: pexpect>4.3 in /Library/Frameworks/Python.framework/Versions/3.10/lib/python3.10/site-packages (from ipython>=4.0.0->ipywidgets) (4.8.0)\n",
      "Requirement already satisfied: pygments>=2.4.0 in /Library/Frameworks/Python.framework/Versions/3.10/lib/python3.10/site-packages (from ipython>=4.0.0->ipywidgets) (2.12.0)\n",
      "Requirement already satisfied: backcall in /Library/Frameworks/Python.framework/Versions/3.10/lib/python3.10/site-packages (from ipython>=4.0.0->ipywidgets) (0.2.0)\n",
      "Requirement already satisfied: stack-data in /Library/Frameworks/Python.framework/Versions/3.10/lib/python3.10/site-packages (from ipython>=4.0.0->ipywidgets) (0.3.0)\n",
      "Requirement already satisfied: jedi>=0.16 in /Library/Frameworks/Python.framework/Versions/3.10/lib/python3.10/site-packages (from ipython>=4.0.0->ipywidgets) (0.18.1)\n",
      "Requirement already satisfied: pickleshare in /Library/Frameworks/Python.framework/Versions/3.10/lib/python3.10/site-packages (from ipython>=4.0.0->ipywidgets) (0.7.5)\n",
      "Requirement already satisfied: decorator in /Library/Frameworks/Python.framework/Versions/3.10/lib/python3.10/site-packages (from ipython>=4.0.0->ipywidgets) (5.1.1)\n",
      "Requirement already satisfied: prompt-toolkit!=3.0.0,!=3.0.1,<3.1.0,>=2.0.0 in /Library/Frameworks/Python.framework/Versions/3.10/lib/python3.10/site-packages (from ipython>=4.0.0->ipywidgets) (3.0.30)\n",
      "Requirement already satisfied: notebook>=4.4.1 in /Library/Frameworks/Python.framework/Versions/3.10/lib/python3.10/site-packages (from widgetsnbextension~=3.6.0->ipywidgets) (6.4.12)\n",
      "Requirement already satisfied: parso<0.9.0,>=0.8.0 in /Library/Frameworks/Python.framework/Versions/3.10/lib/python3.10/site-packages (from jedi>=0.16->ipython>=4.0.0->ipywidgets) (0.8.3)\n",
      "Requirement already satisfied: entrypoints in /Library/Frameworks/Python.framework/Versions/3.10/lib/python3.10/site-packages (from jupyter-client>=6.1.12->ipykernel>=4.5.1->ipywidgets) (0.4)\n",
      "Requirement already satisfied: python-dateutil>=2.8.2 in /Library/Frameworks/Python.framework/Versions/3.10/lib/python3.10/site-packages (from jupyter-client>=6.1.12->ipykernel>=4.5.1->ipywidgets) (2.8.2)\n",
      "Requirement already satisfied: jupyter-core>=4.9.2 in /Library/Frameworks/Python.framework/Versions/3.10/lib/python3.10/site-packages (from jupyter-client>=6.1.12->ipykernel>=4.5.1->ipywidgets) (4.11.1)\n",
      "Requirement already satisfied: terminado>=0.8.3 in /Library/Frameworks/Python.framework/Versions/3.10/lib/python3.10/site-packages (from notebook>=4.4.1->widgetsnbextension~=3.6.0->ipywidgets) (0.15.0)\n",
      "Requirement already satisfied: prometheus-client in /Library/Frameworks/Python.framework/Versions/3.10/lib/python3.10/site-packages (from notebook>=4.4.1->widgetsnbextension~=3.6.0->ipywidgets) (0.14.1)\n",
      "Requirement already satisfied: Send2Trash>=1.8.0 in /Library/Frameworks/Python.framework/Versions/3.10/lib/python3.10/site-packages (from notebook>=4.4.1->widgetsnbextension~=3.6.0->ipywidgets) (1.8.0)\n",
      "Requirement already satisfied: argon2-cffi in /Library/Frameworks/Python.framework/Versions/3.10/lib/python3.10/site-packages (from notebook>=4.4.1->widgetsnbextension~=3.6.0->ipywidgets) (21.3.0)\n",
      "Requirement already satisfied: nbconvert>=5 in /Library/Frameworks/Python.framework/Versions/3.10/lib/python3.10/site-packages (from notebook>=4.4.1->widgetsnbextension~=3.6.0->ipywidgets) (6.5.0)\n",
      "Requirement already satisfied: jinja2 in /Library/Frameworks/Python.framework/Versions/3.10/lib/python3.10/site-packages (from notebook>=4.4.1->widgetsnbextension~=3.6.0->ipywidgets) (3.1.2)\n",
      "Requirement already satisfied: nbformat in /Library/Frameworks/Python.framework/Versions/3.10/lib/python3.10/site-packages (from notebook>=4.4.1->widgetsnbextension~=3.6.0->ipywidgets) (5.4.0)\n",
      "Requirement already satisfied: ptyprocess>=0.5 in /Library/Frameworks/Python.framework/Versions/3.10/lib/python3.10/site-packages (from pexpect>4.3->ipython>=4.0.0->ipywidgets) (0.7.0)\n",
      "Requirement already satisfied: wcwidth in /Library/Frameworks/Python.framework/Versions/3.10/lib/python3.10/site-packages (from prompt-toolkit!=3.0.0,!=3.0.1,<3.1.0,>=2.0.0->ipython>=4.0.0->ipywidgets) (0.2.5)\n",
      "Requirement already satisfied: pyparsing!=3.0.5,>=2.0.2 in /Library/Frameworks/Python.framework/Versions/3.10/lib/python3.10/site-packages (from packaging->ipykernel>=4.5.1->ipywidgets) (3.0.9)\n",
      "Requirement already satisfied: pure-eval in /Library/Frameworks/Python.framework/Versions/3.10/lib/python3.10/site-packages (from stack-data->ipython>=4.0.0->ipywidgets) (0.2.2)\n",
      "Requirement already satisfied: asttokens in /Library/Frameworks/Python.framework/Versions/3.10/lib/python3.10/site-packages (from stack-data->ipython>=4.0.0->ipywidgets) (2.0.5)\n",
      "Requirement already satisfied: executing in /Library/Frameworks/Python.framework/Versions/3.10/lib/python3.10/site-packages (from stack-data->ipython>=4.0.0->ipywidgets) (0.9.1)\n",
      "Requirement already satisfied: nbclient>=0.5.0 in /Library/Frameworks/Python.framework/Versions/3.10/lib/python3.10/site-packages (from nbconvert>=5->notebook>=4.4.1->widgetsnbextension~=3.6.0->ipywidgets) (0.6.6)\n",
      "Requirement already satisfied: defusedxml in /Library/Frameworks/Python.framework/Versions/3.10/lib/python3.10/site-packages (from nbconvert>=5->notebook>=4.4.1->widgetsnbextension~=3.6.0->ipywidgets) (0.7.1)\n",
      "Requirement already satisfied: mistune<2,>=0.8.1 in /Library/Frameworks/Python.framework/Versions/3.10/lib/python3.10/site-packages (from nbconvert>=5->notebook>=4.4.1->widgetsnbextension~=3.6.0->ipywidgets) (0.8.4)\n",
      "Requirement already satisfied: beautifulsoup4 in /Library/Frameworks/Python.framework/Versions/3.10/lib/python3.10/site-packages (from nbconvert>=5->notebook>=4.4.1->widgetsnbextension~=3.6.0->ipywidgets) (4.11.1)\n",
      "Requirement already satisfied: bleach in /Library/Frameworks/Python.framework/Versions/3.10/lib/python3.10/site-packages (from nbconvert>=5->notebook>=4.4.1->widgetsnbextension~=3.6.0->ipywidgets) (5.0.1)\n",
      "Requirement already satisfied: tinycss2 in /Library/Frameworks/Python.framework/Versions/3.10/lib/python3.10/site-packages (from nbconvert>=5->notebook>=4.4.1->widgetsnbextension~=3.6.0->ipywidgets) (1.1.1)\n",
      "Requirement already satisfied: jupyterlab-pygments in /Library/Frameworks/Python.framework/Versions/3.10/lib/python3.10/site-packages (from nbconvert>=5->notebook>=4.4.1->widgetsnbextension~=3.6.0->ipywidgets) (0.2.2)\n",
      "Requirement already satisfied: MarkupSafe>=2.0 in /Library/Frameworks/Python.framework/Versions/3.10/lib/python3.10/site-packages (from nbconvert>=5->notebook>=4.4.1->widgetsnbextension~=3.6.0->ipywidgets) (2.1.1)\n",
      "Requirement already satisfied: pandocfilters>=1.4.1 in /Library/Frameworks/Python.framework/Versions/3.10/lib/python3.10/site-packages (from nbconvert>=5->notebook>=4.4.1->widgetsnbextension~=3.6.0->ipywidgets) (1.5.0)\n",
      "Requirement already satisfied: jsonschema>=2.6 in /Library/Frameworks/Python.framework/Versions/3.10/lib/python3.10/site-packages (from nbformat->notebook>=4.4.1->widgetsnbextension~=3.6.0->ipywidgets) (4.8.0)\n",
      "Requirement already satisfied: fastjsonschema in /Library/Frameworks/Python.framework/Versions/3.10/lib/python3.10/site-packages (from nbformat->notebook>=4.4.1->widgetsnbextension~=3.6.0->ipywidgets) (2.16.1)\n",
      "Requirement already satisfied: six>=1.5 in /Library/Frameworks/Python.framework/Versions/3.10/lib/python3.10/site-packages (from python-dateutil>=2.8.2->jupyter-client>=6.1.12->ipykernel>=4.5.1->ipywidgets) (1.16.0)\n"
     ]
    },
    {
     "name": "stdout",
     "output_type": "stream",
     "text": [
      "Requirement already satisfied: argon2-cffi-bindings in /Library/Frameworks/Python.framework/Versions/3.10/lib/python3.10/site-packages (from argon2-cffi->notebook>=4.4.1->widgetsnbextension~=3.6.0->ipywidgets) (21.2.0)\n",
      "Requirement already satisfied: attrs>=17.4.0 in /Library/Frameworks/Python.framework/Versions/3.10/lib/python3.10/site-packages (from jsonschema>=2.6->nbformat->notebook>=4.4.1->widgetsnbextension~=3.6.0->ipywidgets) (22.1.0)\n",
      "Requirement already satisfied: pyrsistent!=0.17.0,!=0.17.1,!=0.17.2,>=0.14.0 in /Library/Frameworks/Python.framework/Versions/3.10/lib/python3.10/site-packages (from jsonschema>=2.6->nbformat->notebook>=4.4.1->widgetsnbextension~=3.6.0->ipywidgets) (0.18.1)\n",
      "Requirement already satisfied: cffi>=1.0.1 in /Library/Frameworks/Python.framework/Versions/3.10/lib/python3.10/site-packages (from argon2-cffi-bindings->argon2-cffi->notebook>=4.4.1->widgetsnbextension~=3.6.0->ipywidgets) (1.15.1)\n",
      "Requirement already satisfied: soupsieve>1.2 in /Library/Frameworks/Python.framework/Versions/3.10/lib/python3.10/site-packages (from beautifulsoup4->nbconvert>=5->notebook>=4.4.1->widgetsnbextension~=3.6.0->ipywidgets) (2.3.2.post1)\n",
      "Requirement already satisfied: webencodings in /Library/Frameworks/Python.framework/Versions/3.10/lib/python3.10/site-packages (from bleach->nbconvert>=5->notebook>=4.4.1->widgetsnbextension~=3.6.0->ipywidgets) (0.5.1)\n",
      "Requirement already satisfied: pycparser in /Library/Frameworks/Python.framework/Versions/3.10/lib/python3.10/site-packages (from cffi>=1.0.1->argon2-cffi-bindings->argon2-cffi->notebook>=4.4.1->widgetsnbextension~=3.6.0->ipywidgets) (2.21)\n",
      "\u001b[33mWARNING: You are using pip version 22.0.4; however, version 22.2.1 is available.\n",
      "You should consider upgrading via the '/Library/Frameworks/Python.framework/Versions/3.10/bin/python3.10 -m pip install --upgrade pip' command.\u001b[0m\u001b[33m\n",
      "\u001b[0mNote: you may need to restart the kernel to use updated packages.\n"
     ]
    },
    {
     "name": "stderr",
     "output_type": "stream",
     "text": [
      "UsageError: Line magic function `%jupyter` not found.\n"
     ]
    }
   ],
   "source": [
    "%pip install ipywidgets\n",
    "\n",
    "import ipywidgets as widgets"
   ]
  },
  {
   "cell_type": "code",
   "execution_count": 12,
   "id": "ad0e4ec6",
   "metadata": {},
   "outputs": [
    {
     "data": {
      "application/vnd.jupyter.widget-view+json": {
       "model_id": "82d2a28a1140499f97e5ab739112f2b9",
       "version_major": 2,
       "version_minor": 0
      },
      "text/plain": [
       "FloatLogSlider(value=10.0, description='Log Slider', max=10.0, min=-10.0, step=0.2)"
      ]
     },
     "metadata": {},
     "output_type": "display_data"
    },
    {
     "ename": "TypeError",
     "evalue": "Widget.__init__() takes 1 positional argument but 2 were given",
     "output_type": "error",
     "traceback": [
      "\u001b[0;31m---------------------------------------------------------------------------\u001b[0m",
      "\u001b[0;31mTypeError\u001b[0m                                 Traceback (most recent call last)",
      "Input \u001b[0;32mIn [12]\u001b[0m, in \u001b[0;36m<cell line: 11>\u001b[0;34m()\u001b[0m\n\u001b[1;32m      9\u001b[0m display(a)\n\u001b[1;32m     10\u001b[0m a\n\u001b[0;32m---> 11\u001b[0m \u001b[43mwidgets\u001b[49m\u001b[38;5;241;43m.\u001b[39;49m\u001b[43mOutput\u001b[49m\u001b[43m(\u001b[49m\u001b[43ma\u001b[49m\u001b[43m)\u001b[49m\n",
      "\u001b[0;31mTypeError\u001b[0m: Widget.__init__() takes 1 positional argument but 2 were given"
     ]
    }
   ],
   "source": [
    "a = widgets.FloatLogSlider(\n",
    "    value=10,\n",
    "    base=10,\n",
    "    min=-10, # max exponent of base\n",
    "    max=10, # min exponent of base\n",
    "    step=0.2, # exponent step\n",
    "    description='Log Slider'\n",
    ")\n",
    "display(a)\n",
    "a\n",
    "widgets.Output(a)"
   ]
  },
  {
   "cell_type": "markdown",
   "id": "efceb447",
   "metadata": {
    "id": "efceb447"
   },
   "source": [
    "![Tux, the Linux mascot](https://media-exp1.licdn.com/dms/image/C561BAQEDzMqseo-qiA/company-background_10000/0/1626235318986?e=2147483647&v=beta&t=9QQp_S3AuK8-1nMqsSTlL0xy2_JpkNQrzFJ7D_SLUYU)\n"
   ]
  },
  {
   "cell_type": "markdown",
   "id": "967748cb",
   "metadata": {
    "id": "967748cb"
   },
   "source": [
    "After the creation of cluster, we need to connect it with a client program. You can connect to your cluster in six programming languages including Java, .NET, Python, Go+.  To use Hazelcast, you need to have one of the client in your local computer and compile/run your program with it. Following install command downloands Hazelcast Python Client locally if you do not done it before. \n",
    "\n",
    "Also, we will pull over data from an API, and we will send request. So, we need requests module too."
   ]
  },
  {
   "cell_type": "markdown",
   "id": "8ya6wYFme4X0",
   "metadata": {
    "id": "8ya6wYFme4X0"
   },
   "source": [
    "# Install packages"
   ]
  },
  {
   "cell_type": "code",
   "execution_count": 1,
   "id": "ab628f85",
   "metadata": {
    "colab": {
     "base_uri": "https://localhost:8080/"
    },
    "id": "ab628f85",
    "outputId": "52dc4b3e-3a9b-4373-8146-81da221d69d7"
   },
   "outputs": [
    {
     "name": "stdout",
     "output_type": "stream",
     "text": [
      "/Users/hazelcast/.zshenv:1: permission denied: /Users/hazelcast/Desktop\n",
      "Requirement already satisfied: hazelcast-python-client in /Library/Frameworks/Python.framework/Versions/3.10/lib/python3.10/site-packages (5.1)\n",
      "\u001b[33mWARNING: You are using pip version 22.0.4; however, version 22.2.1 is available.\n",
      "You should consider upgrading via the '/Library/Frameworks/Python.framework/Versions/3.10/bin/python3.10 -m pip install --upgrade pip' command.\u001b[0m\u001b[33m\n",
      "\u001b[0mNote: you may need to restart the kernel to use updated packages.\n",
      "/Users/hazelcast/.zshenv:1: permission denied: /Users/hazelcast/Desktop\n",
      "Requirement already satisfied: requests in /Library/Frameworks/Python.framework/Versions/3.10/lib/python3.10/site-packages (2.28.1)\n",
      "Requirement already satisfied: charset-normalizer<3,>=2 in /Library/Frameworks/Python.framework/Versions/3.10/lib/python3.10/site-packages (from requests) (2.1.0)\n",
      "Requirement already satisfied: certifi>=2017.4.17 in /Library/Frameworks/Python.framework/Versions/3.10/lib/python3.10/site-packages (from requests) (2022.6.15)\n",
      "Requirement already satisfied: urllib3<1.27,>=1.21.1 in /Library/Frameworks/Python.framework/Versions/3.10/lib/python3.10/site-packages (from requests) (1.26.11)\n",
      "Requirement already satisfied: idna<4,>=2.5 in /Library/Frameworks/Python.framework/Versions/3.10/lib/python3.10/site-packages (from requests) (3.3)\n",
      "\u001b[33mWARNING: You are using pip version 22.0.4; however, version 22.2.1 is available.\n",
      "You should consider upgrading via the '/Library/Frameworks/Python.framework/Versions/3.10/bin/python3.10 -m pip install --upgrade pip' command.\u001b[0m\u001b[33m\n",
      "\u001b[0mNote: you may need to restart the kernel to use updated packages.\n"
     ]
    }
   ],
   "source": [
    "%pip install hazelcast-python-client\n",
    "%pip install requests"
   ]
  },
  {
   "cell_type": "markdown",
   "id": "L4LDY9RZeDT1",
   "metadata": {
    "id": "L4LDY9RZeDT1"
   },
   "source": [
    "# Imports"
   ]
  },
  {
   "cell_type": "code",
   "execution_count": 2,
   "id": "f734298a",
   "metadata": {
    "id": "f734298a"
   },
   "outputs": [],
   "source": [
    "import hazelcast\n",
    "import requests\n",
    "import logging\n",
    "from hazelcast.core import HazelcastJsonValue"
   ]
  },
  {
   "cell_type": "markdown",
   "id": "VUM_wT34eM51",
   "metadata": {
    "id": "VUM_wT34eM51"
   },
   "source": [
    "# Connect To Hazelcast Cloud"
   ]
  },
  {
   "cell_type": "code",
   "execution_count": 4,
   "id": "6c87a72d",
   "metadata": {
    "colab": {
     "base_uri": "https://localhost:8080/"
    },
    "id": "6c87a72d",
    "outputId": "88a05435-d960-4df5-d71e-84b6cb0bca16"
   },
   "outputs": [
    {
     "name": "stderr",
     "output_type": "stream",
     "text": [
      "INFO:hazelcast.lifecycle:HazelcastClient 5.1 is STARTING\n",
      "INFO:hazelcast.lifecycle:HazelcastClient 5.1 is STARTED\n",
      "INFO:hazelcast.connection:Trying to connect to Address(host=127.0.0.1, port=5701)\n",
      "INFO:hazelcast.lifecycle:HazelcastClient 5.1 is CONNECTED\n",
      "INFO:hazelcast.connection:Authenticated with server Address(host=127.0.0.1, port=5701):d479fc9f-4229-4de9-8ac8-9e66755c841e, server version: 5.1.2, local address: Address(host=127.0.0.1, port=49554)\n",
      "INFO:hazelcast.cluster:\n",
      "\n",
      "Members [1] {\n",
      "\tMember [127.0.0.1]:5701 - d479fc9f-4229-4de9-8ac8-9e66755c841e\n",
      "}\n",
      "\n",
      "INFO:hazelcast.client:Client started\n"
     ]
    },
    {
     "name": "stdout",
     "output_type": "stream",
     "text": [
      "Connection successfull.\n"
     ]
    }
   ],
   "source": [
    "logging.basicConfig(level=logging.INFO)\n",
    "\n",
    "client = hazelcast.HazelcastClient()\n",
    "\n",
    "print(\"Connection successfull.\")"
   ]
  },
  {
   "cell_type": "markdown",
   "id": "w89Aj4rNegPA",
   "metadata": {
    "id": "w89Aj4rNegPA"
   },
   "source": [
    "# Create Mapping between Map and Table"
   ]
  },
  {
   "cell_type": "code",
   "execution_count": 21,
   "id": "acf08feb",
   "metadata": {
    "id": "acf08feb"
   },
   "outputs": [],
   "source": [
    "prices = client.get_map(\"prices\").blocking()"
   ]
  },
  {
   "cell_type": "code",
   "execution_count": 22,
   "id": "574f144d",
   "metadata": {},
   "outputs": [],
   "source": [
    "exchange = client.get_map(\"exchanges\").blocking()"
   ]
  },
  {
   "cell_type": "code",
   "execution_count": 23,
   "id": "c5922c15",
   "metadata": {
    "id": "c5922c15"
   },
   "outputs": [],
   "source": [
    "def create_mapping(hz_client):\n",
    "    # see: https://docs.hazelcast.com/hazelcast/5.0/sql/mapping-to-maps#json-objects\n",
    "    print(\"Creating mapping for countries...\")\n",
    "\n",
    "    mapping_query = \"\"\"\n",
    "        CREATE OR REPLACE MAPPING prices (\n",
    "            __key VARCHAR, \n",
    "            symbol VARCHAR,\n",
    "            priceChange DOUBLE,\n",
    "            priceChangePercent DECIMAL,\n",
    "            weightedAvgPrice DECIMAL,\n",
    "            prevClosePrice DECIMAL,\n",
    "            lastPrice DECIMAL,\n",
    "            lastQty DECIMAL,\n",
    "            bidPrice DECIMAL,\n",
    "            bidQty DECIMAL,\n",
    "            askPrice DECIMAL,\n",
    "            askQty DECIMAL,\n",
    "            openPrice DECIMAL,\n",
    "            highPrice DECIMAL,\n",
    "            lowPrice DECIMAL,\n",
    "            volume VARCHAR,\n",
    "            quoteVolume VARCHAR,\n",
    "            openTime BIGINT,\n",
    "            closeTime BIGINT,\n",
    "            firstId BIGINT,\n",
    "            lastId BIGINT\n",
    "        )\n",
    "        TYPE IMap OPTIONS(\n",
    "            'keyFormat' = 'varchar',\n",
    "            'valueFormat' = 'json-flat'\n",
    "        )\n",
    "    \"\"\"\n",
    "    hz_client.sql.execute(mapping_query).result()\n",
    "    print(\"Mapping for countries has been created.\")\n",
    "    print(\"--------------------\")\n"
   ]
  },
  {
   "cell_type": "code",
   "execution_count": 24,
   "id": "8bac4ea9",
   "metadata": {},
   "outputs": [],
   "source": [
    "def create_mapping_a(hz_client):\n",
    "    # see: https://docs.hazelcast.com/hazelcast/5.0/sql/mapping-to-maps#json-objects\n",
    "    print(\"Creating mapping for countries...\")\n",
    "\n",
    "    mapping_query = \"\"\"\n",
    "        CREATE OR REPLACE MAPPING exchanges (\n",
    "            __key VARCHAR, \n",
    "            symbol VARCHAR,\n",
    "            status VARCHAR,\n",
    "            baseAsset VARCHAR,\n",
    "            baseAssetPrecision INT,\n",
    "            quoteAsset VARCHAR,\n",
    "            quotePrecision INT,\n",
    "            quoteAssetPrecision INT,\n",
    "            baseCommissionPrecision INT,\n",
    "            quoteCommissionPrecision INT,\n",
    "            icebergAllowed BOOLEAN,\n",
    "            ocoAllowed BOOLEAN,\n",
    "            quoteOrderQtyMarketAllowed BOOLEAN,\n",
    "            allowTrailingStop BOOLEAN,\n",
    "            cancelReplaceAllowed BOOLEAN,\n",
    "            isSpotTradingAllowed BOOLEAN,\n",
    "            isMarginTradingAllowed BOOLEAN\n",
    "        )\n",
    "        TYPE IMap OPTIONS(\n",
    "            'keyFormat' = 'varchar',\n",
    "            'valueFormat' = 'json-flat'\n",
    "        )\n",
    "    \"\"\"\n",
    "    hz_client.sql.execute(mapping_query).result()"
   ]
  },
  {
   "cell_type": "code",
   "execution_count": 25,
   "id": "f4d62c1c",
   "metadata": {
    "colab": {
     "base_uri": "https://localhost:8080/"
    },
    "id": "f4d62c1c",
    "outputId": "73f13e2a-385b-4996-d9df-9cd80cf6fab1"
   },
   "outputs": [
    {
     "name": "stdout",
     "output_type": "stream",
     "text": [
      "Creating mapping for countries...\n",
      "Mapping for countries has been created.\n",
      "--------------------\n"
     ]
    }
   ],
   "source": [
    "create_mapping(client)"
   ]
  },
  {
   "cell_type": "code",
   "execution_count": 26,
   "id": "69908653",
   "metadata": {},
   "outputs": [
    {
     "name": "stdout",
     "output_type": "stream",
     "text": [
      "Creating mapping for countries...\n"
     ]
    }
   ],
   "source": [
    "create_mapping_a(client)"
   ]
  },
  {
   "cell_type": "markdown",
   "id": "AGjd7FVxeniP",
   "metadata": {
    "id": "AGjd7FVxeniP"
   },
   "source": [
    "# Load Data from API"
   ]
  },
  {
   "cell_type": "code",
   "execution_count": 27,
   "id": "5b84720d",
   "metadata": {
    "id": "5b84720d"
   },
   "outputs": [],
   "source": [
    "def load_rates(prices):\n",
    "    data = requests.get('https://www.binance.com/api/v3/ticker/24hr').json()\n",
    "    \n",
    "    i = 0;\n",
    "    for f in data:\n",
    "        prices.put(str(i), HazelcastJsonValue(f))\n",
    "        i += 1\n",
    "            \n",
    "    print(\"Data has been loaded.\")"
   ]
  },
  {
   "cell_type": "code",
   "execution_count": 28,
   "id": "40d014d2",
   "metadata": {
    "colab": {
     "base_uri": "https://localhost:8080/"
    },
    "id": "40d014d2",
    "outputId": "a8bcb078-d070-4038-ffc0-b1359ae540bd"
   },
   "outputs": [
    {
     "name": "stdout",
     "output_type": "stream",
     "text": [
      "Data has been loaded.\n"
     ]
    }
   ],
   "source": [
    "load_rates(prices)"
   ]
  },
  {
   "cell_type": "code",
   "execution_count": 29,
   "id": "1bf279f9",
   "metadata": {
    "id": "1bf279f9"
   },
   "outputs": [],
   "source": [
    "def load_exchange_info(prices):\n",
    "    data = requests.get('https://www.binance.com/api/v3/exchangeInfo').json()\n",
    "  \n",
    "    i = 0;\n",
    "    for f in data['symbols']:\n",
    "        exchange.put(str(i), HazelcastJsonValue(f))\n",
    "        i += 1\n",
    "            \n",
    "    print(\"Data has been loaded.\")"
   ]
  },
  {
   "cell_type": "code",
   "execution_count": 30,
   "id": "c80bba0a",
   "metadata": {
    "id": "c80bba0a"
   },
   "outputs": [
    {
     "name": "stdout",
     "output_type": "stream",
     "text": [
      "Data has been loaded.\n"
     ]
    }
   ],
   "source": [
    "load_exchange_info(prices)"
   ]
  },
  {
   "cell_type": "markdown",
   "id": "HD5RBMXzgJAX",
   "metadata": {
    "id": "HD5RBMXzgJAX"
   },
   "source": [
    "# Query "
   ]
  },
  {
   "cell_type": "code",
   "execution_count": null,
   "id": "5qSGE-17gP0i",
   "metadata": {
    "id": "5qSGE-17gP0i"
   },
   "outputs": [],
   "source": []
  }
 ],
 "metadata": {
  "colab": {
   "collapsed_sections": [],
   "name": "Stock Price Notebook.ipynb",
   "provenance": [],
   "toc_visible": true
  },
  "kernelspec": {
   "display_name": "Python 3 (ipykernel)",
   "language": "python",
   "name": "python3"
  },
  "language_info": {
   "codemirror_mode": {
    "name": "ipython",
    "version": 3
   },
   "file_extension": ".py",
   "mimetype": "text/x-python",
   "name": "python",
   "nbconvert_exporter": "python",
   "pygments_lexer": "ipython3",
   "version": "3.10.5"
  }
 },
 "nbformat": 4,
 "nbformat_minor": 5
}
