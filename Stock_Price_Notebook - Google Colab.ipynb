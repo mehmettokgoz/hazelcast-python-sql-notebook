{
  "cells": [
    {
      "cell_type": "markdown",
      "id": "1a981ad9",
      "metadata": {
        "id": "1a981ad9"
      },
      "source": [
        "# Hazelcast Python Client SQL Support Notebook\n",
        "\n",
        "This notebook shows example usage of Hazelcast Python Client using SQL functions. Hazelcast provides in-depth SQL support for your data kept in Hazelcast clusters. You can create a mapping between a database table and your data resource and execute SQL queries on the map. \n",
        "\n",
        "\n",
        "To simplify setup, this tutorial uses Hazelcast Cloud for the cluster service. Hazelcast Cloud offers free registration with 200MB storage area. You can register the Hazelcast Cloud using following link and create a cluster in few minutes: https://cloud.hazelcast.com/. You can follow this tutorial to create a cluster in Cloud. If you have any issue, you can ask your questions in Hazelcast Community Slack channel. "
      ]
    },
    {
      "cell_type": "markdown",
      "id": "efceb447",
      "metadata": {
        "id": "efceb447"
      },
      "source": [
        "![Tux, the Linux mascot](https://media-exp1.licdn.com/dms/image/C561BAQEDzMqseo-qiA/company-background_10000/0/1626235318986?e=2147483647&v=beta&t=9QQp_S3AuK8-1nMqsSTlL0xy2_JpkNQrzFJ7D_SLUYU)\n"
      ]
    },
    {
      "cell_type": "markdown",
      "id": "967748cb",
      "metadata": {
        "id": "967748cb"
      },
      "source": [
        "After the creation of cluster, we need to connect it with a client program. You can connect to your cluster in six programming languages including Java, .NET, Python, Go+.  To use Hazelcast, you need to have one of the client in your local computer and compile/run your program with it. Following install command downloands Hazelcast Python Client locally if you do not done it before. \n",
        "\n",
        "Also, we will pull over data from an API, and we will send request. So, we need requests module too."
      ]
    },
    {
      "cell_type": "markdown",
      "source": [
        "# Install packages"
      ],
      "metadata": {
        "id": "8ya6wYFme4X0"
      },
      "id": "8ya6wYFme4X0"
    },
    {
      "cell_type": "code",
      "execution_count": 1,
      "id": "ab628f85",
      "metadata": {
        "id": "ab628f85",
        "colab": {
          "base_uri": "https://localhost:8080/"
        },
        "outputId": "52dc4b3e-3a9b-4373-8146-81da221d69d7"
      },
      "outputs": [
        {
          "output_type": "stream",
          "name": "stdout",
          "text": [
            "Looking in indexes: https://pypi.org/simple, https://us-python.pkg.dev/colab-wheels/public/simple/\n",
            "Requirement already satisfied: hazelcast-python-client in /usr/local/lib/python3.7/dist-packages (5.1)\n",
            "Looking in indexes: https://pypi.org/simple, https://us-python.pkg.dev/colab-wheels/public/simple/\n",
            "Requirement already satisfied: requests in /usr/local/lib/python3.7/dist-packages (2.23.0)\n",
            "Requirement already satisfied: urllib3!=1.25.0,!=1.25.1,<1.26,>=1.21.1 in /usr/local/lib/python3.7/dist-packages (from requests) (1.24.3)\n",
            "Requirement already satisfied: idna<3,>=2.5 in /usr/local/lib/python3.7/dist-packages (from requests) (2.10)\n",
            "Requirement already satisfied: certifi>=2017.4.17 in /usr/local/lib/python3.7/dist-packages (from requests) (2022.6.15)\n",
            "Requirement already satisfied: chardet<4,>=3.0.2 in /usr/local/lib/python3.7/dist-packages (from requests) (3.0.4)\n"
          ]
        }
      ],
      "source": [
        "%pip install hazelcast-python-client\n",
        "%pip install requests"
      ]
    },
    {
      "cell_type": "markdown",
      "source": [
        "# Imports"
      ],
      "metadata": {
        "id": "L4LDY9RZeDT1"
      },
      "id": "L4LDY9RZeDT1"
    },
    {
      "cell_type": "code",
      "execution_count": 2,
      "id": "f734298a",
      "metadata": {
        "id": "f734298a"
      },
      "outputs": [],
      "source": [
        "import hazelcast\n",
        "import requests\n",
        "import logging\n",
        "from hazelcast.core import HazelcastJsonValue"
      ]
    },
    {
      "cell_type": "markdown",
      "source": [
        "# Connect To Hazelcast Cloud"
      ],
      "metadata": {
        "id": "VUM_wT34eM51"
      },
      "id": "VUM_wT34eM51"
    },
    {
      "cell_type": "code",
      "execution_count": 3,
      "id": "6c87a72d",
      "metadata": {
        "id": "6c87a72d",
        "outputId": "88a05435-d960-4df5-d71e-84b6cb0bca16",
        "colab": {
          "base_uri": "https://localhost:8080/"
        }
      },
      "outputs": [
        {
          "output_type": "stream",
          "name": "stderr",
          "text": [
            "INFO:hazelcast.lifecycle:HazelcastClient 5.1 is STARTING\n",
            "INFO:hazelcast.lifecycle:HazelcastClient 5.1 is STARTED\n",
            "INFO:hazelcast.connection:Trying to connect to Address(host=10.9.210.219, port=30116)\n",
            "INFO:hazelcast.lifecycle:HazelcastClient 5.1 is CONNECTED\n",
            "INFO:hazelcast.connection:Authenticated with server Address(host=10.9.210.219, port=30116):78539aa6-5a07-44c6-9417-454f65d5c9d5, server version: 5.1.1, local address: Address(host=172.28.0.2, port=50200)\n",
            "INFO:hazelcast.cluster:\n",
            "\n",
            "Members [1] {\n",
            "\tMember [10.9.210.219]:30116 - 78539aa6-5a07-44c6-9417-454f65d5c9d5\n",
            "}\n",
            "\n",
            "INFO:hazelcast.statistics:Client statistics enabled with the period of 3.0 seconds.\n",
            "INFO:hazelcast.client:Client started\n"
          ]
        },
        {
          "output_type": "stream",
          "name": "stdout",
          "text": [
            "Connection successfull.\n"
          ]
        }
      ],
      "source": [
        "logging.basicConfig(level=logging.INFO)\n",
        "\n",
        "client = hazelcast.HazelcastClient(\n",
        "    cluster_name=\"pr-3543\",\n",
        "    cloud_discovery_token=\"Ri5zJp6oxLlKI92DOe2YbeyXkXsB7wnOilgAjtiaoTQhGp6E30\",\n",
        "    statistics_enabled=True,\n",
        ")\n",
        "\n",
        "print(\"Connection successfull.\")"
      ]
    },
    {
      "cell_type": "markdown",
      "source": [
        "# Create Mapping between Map and Table"
      ],
      "metadata": {
        "id": "w89Aj4rNegPA"
      },
      "id": "w89Aj4rNegPA"
    },
    {
      "cell_type": "code",
      "execution_count": 4,
      "id": "acf08feb",
      "metadata": {
        "id": "acf08feb"
      },
      "outputs": [],
      "source": [
        "prices = client.get_map(\"prices\").blocking()"
      ]
    },
    {
      "cell_type": "code",
      "execution_count": 5,
      "id": "c5922c15",
      "metadata": {
        "id": "c5922c15"
      },
      "outputs": [],
      "source": [
        "def create_mapping(hz_client):\n",
        "    # see: https://docs.hazelcast.com/hazelcast/5.0/sql/mapping-to-maps#json-objects\n",
        "    print(\"Creating mapping for countries...\")\n",
        "\n",
        "    mapping_query = \"\"\"\n",
        "        CREATE OR REPLACE MAPPING prices (\n",
        "            __key VARCHAR, \n",
        "            symbol VARCHAR,\n",
        "            priceChange DOUBLE,\n",
        "            priceChangePercent DECIMAL,\n",
        "            weightedAvgPrice DECIMAL,\n",
        "            prevClosePrice DECIMAL,\n",
        "            lastPrice DECIMAL,\n",
        "            lastQty DECIMAL,\n",
        "            bidPrice DECIMAL,\n",
        "            bidQty DECIMAL,\n",
        "            askPrice DECIMAL,\n",
        "            askQty DECIMAL,\n",
        "            openPrice DECIMAL,\n",
        "            highPrice DECIMAL,\n",
        "            lowPrice DECIMAL,\n",
        "            volume VARCHAR,\n",
        "            quoteVolume VARCHAR,\n",
        "            openTime BIGINT,\n",
        "            closeTime BIGINT,\n",
        "            firstId BIGINT,\n",
        "            lastId BIGINT\n",
        "        )\n",
        "        TYPE IMap OPTIONS(\n",
        "            'keyFormat' = 'varchar',\n",
        "            'valueFormat' = 'json-flat'\n",
        "        )\n",
        "    \"\"\"\n",
        "    hz_client.sql.execute(mapping_query).result()\n",
        "    print(\"Mapping for countries has been created.\")\n",
        "    print(\"--------------------\")\n"
      ]
    },
    {
      "cell_type": "code",
      "execution_count": 6,
      "id": "f4d62c1c",
      "metadata": {
        "id": "f4d62c1c",
        "outputId": "73f13e2a-385b-4996-d9df-9cd80cf6fab1",
        "colab": {
          "base_uri": "https://localhost:8080/"
        }
      },
      "outputs": [
        {
          "output_type": "stream",
          "name": "stdout",
          "text": [
            "Creating mapping for countries...\n",
            "Mapping for countries has been created.\n",
            "--------------------\n"
          ]
        }
      ],
      "source": [
        "create_mapping(client)"
      ]
    },
    {
      "cell_type": "markdown",
      "source": [
        "# Load Data from API"
      ],
      "metadata": {
        "id": "AGjd7FVxeniP"
      },
      "id": "AGjd7FVxeniP"
    },
    {
      "cell_type": "code",
      "execution_count": 7,
      "id": "5b84720d",
      "metadata": {
        "id": "5b84720d"
      },
      "outputs": [],
      "source": [
        "def load_rates(prices):\n",
        "    data = requests.get('https://www.binance.com/api/v3/ticker/24hr').json()\n",
        "    \n",
        "    i = 0;\n",
        "    for f in data:\n",
        "        prices.put(str(i), HazelcastJsonValue(f))\n",
        "        i += 1\n",
        "            \n",
        "    print(\"Data has been loaded.\")"
      ]
    },
    {
      "cell_type": "code",
      "execution_count": 8,
      "id": "40d014d2",
      "metadata": {
        "id": "40d014d2",
        "outputId": "a8bcb078-d070-4038-ffc0-b1359ae540bd",
        "colab": {
          "base_uri": "https://localhost:8080/"
        }
      },
      "outputs": [
        {
          "output_type": "stream",
          "name": "stdout",
          "text": [
            "Data has been loaded.\n"
          ]
        }
      ],
      "source": [
        "load_rates(prices)"
      ]
    },
    {
      "cell_type": "code",
      "execution_count": 9,
      "id": "1bf279f9",
      "metadata": {
        "id": "1bf279f9"
      },
      "outputs": [],
      "source": [
        "def load_exchange_info(prices):\n",
        "    data = requests.get('https://www.binance.com/api/v3/ticker/24hr').json()\n",
        "  \n",
        "    i = 0;\n",
        "    for f in data['symbols']:\n",
        "        prices.put(str(i), HazelcastJsonValue(f))\n",
        "        i += 1\n",
        "            \n",
        "    print(\"Data has been loaded.\")"
      ]
    },
    {
      "cell_type": "code",
      "execution_count": null,
      "id": "c80bba0a",
      "metadata": {
        "id": "c80bba0a"
      },
      "outputs": [],
      "source": [
        "load_exchange_info(prices)"
      ]
    },
    {
      "cell_type": "markdown",
      "source": [
        "# Query "
      ],
      "metadata": {
        "id": "HD5RBMXzgJAX"
      },
      "id": "HD5RBMXzgJAX"
    },
    {
      "cell_type": "code",
      "source": [
        ""
      ],
      "metadata": {
        "id": "5qSGE-17gP0i"
      },
      "id": "5qSGE-17gP0i",
      "execution_count": null,
      "outputs": []
    }
  ],
  "metadata": {
    "kernelspec": {
      "display_name": "Python 3 (ipykernel)",
      "language": "python",
      "name": "python3"
    },
    "language_info": {
      "codemirror_mode": {
        "name": "ipython",
        "version": 3
      },
      "file_extension": ".py",
      "mimetype": "text/x-python",
      "name": "python",
      "nbconvert_exporter": "python",
      "pygments_lexer": "ipython3",
      "version": "3.10.5"
    },
    "colab": {
      "name": "Stock Price Notebook.ipynb",
      "provenance": [],
      "collapsed_sections": [],
      "toc_visible": true
    }
  },
  "nbformat": 4,
  "nbformat_minor": 5
}