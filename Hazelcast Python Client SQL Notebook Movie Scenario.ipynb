{
 "cells": [
  {
   "cell_type": "markdown",
   "id": "1a981ad9",
   "metadata": {
    "id": "1a981ad9"
   },
   "source": [
    "# Hazelcast Python Client SQL Support Notebook\n",
    "\n",
    "This notebook demonstrates the SQL support of Hazelcast Python Client. Hazelcast provides in-depth SQL support for Map data structures kept in Hazelcast Clusters. Using Hazelcast SQL support, you can create mappings between your data and a database table and execute SQL queries on the Map. This support provides fast in-memory computing using SQL without writing complex functions that iterate through your maps.</br></br>\n",
    "Through this tutorial, you can either use your local cluster or Hazelcast Cloud. We will use Hazelcast Cloud as our cluster provider to not worry about setup or installation. Hazelcast Cloud offers free registration with a 200MB storage area. You can register using the following link and create a cluster in a few minutes: https://cloud.hazelcast.com/. </br></br> Remember that you can run this notebook in a Google Colabrotary environment without dealing with local installations. If you have any issues, you can ask your questions in Hazelcast Community channels, find links here: https://hazelcast.com/dev-community/ "
   ]
  },
  {
   "cell_type": "markdown",
   "id": "efceb447",
   "metadata": {
    "id": "efceb447"
   },
   "source": [
    "![Tux, the Linux mascot](https://media-exp1.licdn.com/dms/image/C561BAQEDzMqseo-qiA/company-background_10000/0/1626235318986?e=2147483647&v=beta&t=9QQp_S3AuK8-1nMqsSTlL0xy2_JpkNQrzFJ7D_SLUYU)\n"
   ]
  },
  {
   "cell_type": "markdown",
   "id": "7lE1TXDgJCSg",
   "metadata": {
    "id": "7lE1TXDgJCSg"
   },
   "source": [
    "After creating a cluster at Hazelcast Cloud, we need your cluster name and discovery token to connect from this notebook. You can find this information from **Connect to your application > Advanced Setup** tab in the Hazelcast Cloud website."
   ]
  },
  {
   "cell_type": "markdown",
   "id": "abe6ffc9",
   "metadata": {},
   "source": [
    "## Hazelcast Cloud Authentication Tokens"
   ]
  },
  {
   "cell_type": "code",
   "execution_count": 104,
   "id": "35vuCUGp_y9r",
   "metadata": {
    "cellView": "form",
    "id": "35vuCUGp_y9r"
   },
   "outputs": [],
   "source": [
    "CLUSTER_NAME = \"YOUR_CLUSTER_NAME\"\n",
    "DISCOVERY_TOKEN = \"YOUR_DISCOVERY_TOKEN\""
   ]
  },
  {
   "cell_type": "markdown",
   "id": "ca811367",
   "metadata": {},
   "source": [
    "## Connect to API\n",
    "\n",
    "Instead of hard-coding data entries to our Map, we will use an API source to pull thousands of data to our cluster. We decided to use a cinema API named **The Movie Database (TMDB)** which returns in-depth movie and actor data for us as JSON objects. To be able to send a request to this API, you will need an API key. You can create it easily from their website. Note that you need to create an account first and then go to **Settings > API > Create New Key**. It may ask for some information about your project; providing short descriptions like \"Experimenting API requests\" is enough.\n",
    "\n",
    "https://www.themoviedb.org/signup"
   ]
  },
  {
   "cell_type": "code",
   "execution_count": 5,
   "id": "vHwWIb8cmUsH",
   "metadata": {
    "id": "vHwWIb8cmUsH"
   },
   "outputs": [],
   "source": [
    "API_KEY = \"7f057be532c35bfdcb322d16c5cc406d\""
   ]
  },
  {
   "cell_type": "markdown",
   "id": "967748cb",
   "metadata": {
    "id": "967748cb"
   },
   "source": [
    "Now, we need our Python client to use Hazelcast. You can embed Hazelcast inside your program by simply inserting a package, `hazelcast-python-client`, and utilize all the functionality using this package."
   ]
  },
  {
   "cell_type": "markdown",
   "id": "8ya6wYFme4X0",
   "metadata": {
    "id": "8ya6wYFme4X0"
   },
   "source": [
    "# Install Hazelcast Client"
   ]
  },
  {
   "cell_type": "code",
   "execution_count": 106,
   "id": "ab628f85",
   "metadata": {
    "colab": {
     "base_uri": "https://localhost:8080/"
    },
    "id": "ab628f85",
    "outputId": "08d269f7-770e-4d41-e9b1-0f1f9ab3aa51"
   },
   "outputs": [
    {
     "name": "stdout",
     "output_type": "stream",
     "text": [
      "/Users/hazelcast/.zshenv:1: permission denied: /Users/hazelcast/Desktop\n",
      "Requirement already satisfied: hazelcast-python-client in /Library/Frameworks/Python.framework/Versions/3.10/lib/python3.10/site-packages (5.1)\n",
      "\u001b[33mWARNING: You are using pip version 22.0.4; however, version 22.2.2 is available.\n",
      "You should consider upgrading via the '/Library/Frameworks/Python.framework/Versions/3.10/bin/python3.10 -m pip install --upgrade pip' command.\u001b[0m\u001b[33m\n",
      "\u001b[0mNote: you may need to restart the kernel to use updated packages.\n"
     ]
    }
   ],
   "source": [
    "%pip install hazelcast-python-client"
   ]
  },
  {
   "cell_type": "markdown",
   "id": "L4LDY9RZeDT1",
   "metadata": {
    "id": "L4LDY9RZeDT1"
   },
   "source": [
    "# Imports"
   ]
  },
  {
   "cell_type": "code",
   "execution_count": 1,
   "id": "f734298a",
   "metadata": {
    "id": "f734298a"
   },
   "outputs": [],
   "source": [
    "import hazelcast\n",
    "import json\n",
    "import requests"
   ]
  },
  {
   "cell_type": "markdown",
   "id": "VUM_wT34eM51",
   "metadata": {
    "id": "VUM_wT34eM51"
   },
   "source": [
    "# Connect To Hazelcast Cloud"
   ]
  },
  {
   "cell_type": "markdown",
   "id": "0b504f89",
   "metadata": {
    "id": "0b504f89"
   },
   "source": [
    "We are ready to connect our cluster from Python program. Hazelcast uses config settings to find your cluster. We are providing our Cloud tokens for configuration to connect Hazelcast Cloud. After seeing the `Connection successful.` message, we can get our `Map` data structures using `get_map()` functions.\n",
    "\n",
    "*Note: If you want to connect to a local cluster in Jupyter Notebook, you should remove the config options inside the `HazelcastClient()` method. In this case, it tries to connect`localhost:5701`*"
   ]
  },
  {
   "cell_type": "code",
   "execution_count": 107,
   "id": "6c87a72d",
   "metadata": {
    "colab": {
     "base_uri": "https://localhost:8080/"
    },
    "id": "6c87a72d",
    "outputId": "95fbc078-0dad-44ec-e49f-58a530347def"
   },
   "outputs": [
    {
     "name": "stdout",
     "output_type": "stream",
     "text": [
      "Connection successful\n"
     ]
    }
   ],
   "source": [
    "client = hazelcast.HazelcastClient(\n",
    "    cluster_name=CLUSTER_NAME,\n",
    "    cloud_discovery_token=DISCOVERY_TOKEN,\n",
    "    statistics_enabled=True\n",
    ")\n",
    "\n",
    "print(\"Connection successful\")"
   ]
  },
  {
   "cell_type": "markdown",
   "id": "TEwKMpvH_8Zd",
   "metadata": {
    "id": "TEwKMpvH_8Zd"
   },
   "source": [
    "We will need four different Maps for our scenario. We can them create using `get_map()` function.\n",
    "\n",
    "*   movies: id, name, vote count, vote average, release date\n",
    "*   casts: movie id, actor id pairs\n",
    "*   actors: actor id, name, popularity, gender\n",
    "*   reviews: author username, movie id, review content, rating \n",
    "\n"
   ]
  },
  {
   "cell_type": "code",
   "execution_count": 3,
   "id": "acf08feb",
   "metadata": {
    "id": "acf08feb"
   },
   "outputs": [],
   "source": [
    "movies  = client.get_map(\"movies\").blocking()\n",
    "casts   = client.get_map(\"casts\").blocking()\n",
    "reviews = client.get_map(\"reviews\").blocking()\n",
    "actors  = client.get_map(\"actors\").blocking()"
   ]
  },
  {
   "cell_type": "markdown",
   "id": "AGjd7FVxeniP",
   "metadata": {
    "id": "AGjd7FVxeniP"
   },
   "source": [
    "# Load Data from API"
   ]
  },
  {
   "cell_type": "markdown",
   "id": "b03df262",
   "metadata": {
    "id": "b03df262"
   },
   "source": [
    "Now, we are ready to pull our data from the TMDB API and load them to our Hazelcast Cluster. To do that, we need to send requests to our API provider. Following cells send API requests and insert results into appropriate maps.\n",
    "\n",
    "**This step may take time, depending on your connection speed and server latency. As long as there is no error and an `[*]` is present near to cell, do not worry.**"
   ]
  },
  {
   "cell_type": "code",
   "execution_count": 40,
   "id": "5b84720d",
   "metadata": {
    "colab": {
     "base_uri": "https://localhost:8080/"
    },
    "id": "5b84720d",
    "outputId": "2583282f-90fb-4245-d5d8-511920ef5528"
   },
   "outputs": [
    {
     "name": "stdout",
     "output_type": "stream",
     "text": [
      "Movie data has been loaded.\n"
     ]
    }
   ],
   "source": [
    "key = 0\n",
    "for i in range(1,200):\n",
    "    data = requests.get(\"https://api.themoviedb.org/3/movie/top_rated?api_key=%s&language=en-US&page=%d\" % (API_KEY, i)).json()\n",
    "    for movie in data['results']:\n",
    "        movies.put(str(key), hazelcast.core.HazelcastJsonValue(movie))\n",
    "        key += 1\n",
    "print(\"Movie data has been loaded.\")"
   ]
  },
  {
   "cell_type": "code",
   "execution_count": 48,
   "id": "1f9499bd",
   "metadata": {
    "colab": {
     "base_uri": "https://localhost:8080/"
    },
    "id": "1f9499bd",
    "outputId": "eb15b60d-f964-4d9d-d121-4fe950d923ee"
   },
   "outputs": [
    {
     "name": "stdout",
     "output_type": "stream",
     "text": [
      "Data has been loaded.\n"
     ]
    }
   ],
   "source": [
    "key = 0; cast_key = 0;\n",
    "for i in range(1,100):\n",
    "    data = requests.get(\"https://api.themoviedb.org/3/person/popular?api_key=%s&language=en-US&page=%d\" % (API_KEY,i)).json()\n",
    "    for a in data['results']:\n",
    "        actors.put(str(key), hazelcast.core.HazelcastJsonValue(a))\n",
    "        key += 1\n",
    "        \n",
    "        for c in a['known_for']:\n",
    "            if c['media_type'] == 'movie':\n",
    "                casts.put(str(cast_key), hazelcast.core.HazelcastJsonValue({\"movie_id\":c['id'], \"actor_id\":a['id']}))\n",
    "                cast_key += 1\n",
    "print(\"Data has been loaded.\")"
   ]
  },
  {
   "cell_type": "code",
   "execution_count": 49,
   "id": "4eb8725e",
   "metadata": {
    "id": "4eb8725e"
   },
   "outputs": [
    {
     "name": "stdout",
     "output_type": "stream",
     "text": [
      "Review data has been loaded.\n"
     ]
    }
   ],
   "source": [
    "key = 0\n",
    "for i in range(1,200):\n",
    "    value = movies.get(str(i)).to_string()\n",
    "    movie = json.loads(value)\n",
    "    url = \"https://api.themoviedb.org/3/movie/%d/reviews?api_key=%s&language=en-US&page=1\" % ( movie['id'], API_KEY)\n",
    "    data = requests.get(url).json()\n",
    "    for r in data['results']:\n",
    "        review = {'movie_id':movie['id'], 'author_username': r['author_details']['username'], 'rating':r['author_details']['rating'], 'content':r['content']}\n",
    "        reviews.put(str(key), hazelcast.core.HazelcastJsonValue(review))\n",
    "        key += 1\n",
    "print(\"Review data has been loaded.\")"
   ]
  },
  {
   "cell_type": "markdown",
   "id": "70724487",
   "metadata": {
    "id": "70724487"
   },
   "source": [
    "After the loading data operations, there should be approximately </br>\n",
    "*   1K entry in `actors` map\n",
    "*   4K entry in `casts` map\n",
    "*   4K entry in `movies` map\n",
    "*   500 entry in `reviews` map</br>\n",
    "\n",
    "You can run following cell to control the Map sizes."
   ]
  },
  {
   "cell_type": "code",
   "execution_count": 50,
   "id": "-8S4Zd5sBjCL",
   "metadata": {
    "colab": {
     "base_uri": "https://localhost:8080/"
    },
    "id": "-8S4Zd5sBjCL",
    "outputId": "3a18e700-bae7-4bbc-b662-c655d52725f6"
   },
   "outputs": [
    {
     "name": "stdout",
     "output_type": "stream",
     "text": [
      "actors map size: 1980\n",
      "casts map size: 4147\n",
      "movies map size: 3980\n",
      "reviews map size: 478\n"
     ]
    }
   ],
   "source": [
    "print(f\"actors map size: {actors.size()}\")\n",
    "print(f\"casts map size: {casts.size()}\")\n",
    "print(f\"movies map size: {movies.size()}\")\n",
    "print(f\"reviews map size: {reviews.size()}\")"
   ]
  },
  {
   "cell_type": "markdown",
   "id": "w89Aj4rNegPA",
   "metadata": {
    "id": "w89Aj4rNegPA"
   },
   "source": [
    "# Create Mapping between Map and Table"
   ]
  },
  {
   "cell_type": "markdown",
   "id": "rldEwkMrB9Yc",
   "metadata": {
    "id": "rldEwkMrB9Yc"
   },
   "source": [
    "Here is the critical part. We inserted many  `HazelcastJsonValue()` objects into our Map. Now, we will create a mapping between our Map value fields and table columns. Using this mapping, we will execute SQL queries on our maps. You can select any column you want to map; not all fields are mandatory. Also, remember that our current value format must be `json-flat` to refer JSON fields directly in the query."
   ]
  },
  {
   "cell_type": "code",
   "execution_count": 51,
   "id": "c5922c15",
   "metadata": {
    "colab": {
     "base_uri": "https://localhost:8080/"
    },
    "id": "c5922c15",
    "outputId": "84495c5b-0f0a-4387-cffa-21d5b7ab859e"
   },
   "outputs": [
    {
     "name": "stdout",
     "output_type": "stream",
     "text": [
      "Mapping for movies has been created.\n"
     ]
    }
   ],
   "source": [
    "query = \"\"\"\n",
    "    CREATE OR REPLACE MAPPING movies (\n",
    "        __key VARCHAR, \n",
    "        adult BOOLEAN,\n",
    "        backdrop_path VARCHAR,\n",
    "        id INT,\n",
    "        original_value VARCHAR,\n",
    "        original_title VARCHAR,\n",
    "        overview VARCHAR,\n",
    "        popularity DECIMAL,\n",
    "        poster_path VARCHAR,\n",
    "        release_date VARCHAR,\n",
    "        title VARCHAR,\n",
    "        video BOOLEAN,\n",
    "        vote_average DECIMAL,\n",
    "        vote_count INT\n",
    "    )\n",
    "    TYPE IMap OPTIONS(\n",
    "        'keyFormat' = 'varchar',\n",
    "        'valueFormat' = 'json-flat'\n",
    "    )\n",
    "\"\"\"\n",
    "client.sql.execute(query).result()\n",
    "print(\"Mapping for movies has been created.\")"
   ]
  },
  {
   "cell_type": "code",
   "execution_count": 52,
   "id": "28fae79d",
   "metadata": {
    "colab": {
     "base_uri": "https://localhost:8080/"
    },
    "id": "28fae79d",
    "outputId": "02de7ead-cb25-4a4e-d7cc-6bcae3c972bc"
   },
   "outputs": [
    {
     "name": "stdout",
     "output_type": "stream",
     "text": [
      "Mapping for cast has been created.\n"
     ]
    }
   ],
   "source": [
    "query = \"\"\"\n",
    "    CREATE OR REPLACE MAPPING casts (\n",
    "        __key VARCHAR,\n",
    "        movie_id INT,\n",
    "        actor_id INT\n",
    "    )\n",
    "    TYPE IMap OPTIONS(\n",
    "        'keyFormat' = 'varchar',\n",
    "        'valueFormat' = 'json-flat'\n",
    "    )\n",
    "\"\"\"\n",
    "client.sql.execute(query).result()\n",
    "print(\"Mapping for cast has been created.\")"
   ]
  },
  {
   "cell_type": "code",
   "execution_count": 53,
   "id": "a883f05c",
   "metadata": {
    "colab": {
     "base_uri": "https://localhost:8080/"
    },
    "id": "a883f05c",
    "outputId": "0193a1a7-d07a-4f09-d698-59197650ad29"
   },
   "outputs": [
    {
     "name": "stdout",
     "output_type": "stream",
     "text": [
      "Mapping for actors has been created.\n"
     ]
    }
   ],
   "source": [
    "query = \"\"\"\n",
    "    CREATE OR REPLACE MAPPING actors (\n",
    "        __key VARCHAR,\n",
    "        adult BOOLEAN,\n",
    "        gender INT,\n",
    "        id INT,\n",
    "        known_for_department VARCHAR,\n",
    "        name VARCHAR,\n",
    "        popularity DECIMAL,\n",
    "        profile_path VARCHAR\n",
    "    )\n",
    "    TYPE IMap OPTIONS(\n",
    "        'keyFormat' = 'varchar',\n",
    "        'valueFormat' = 'json-flat'\n",
    "    )\n",
    "\"\"\"\n",
    "client.sql.execute(query).result()\n",
    "print(\"Mapping for actors has been created.\")"
   ]
  },
  {
   "cell_type": "code",
   "execution_count": 54,
   "id": "40861e41",
   "metadata": {
    "colab": {
     "base_uri": "https://localhost:8080/"
    },
    "id": "40861e41",
    "outputId": "2bd502ad-8eae-4b5f-db02-4b31775a8318"
   },
   "outputs": [
    {
     "name": "stdout",
     "output_type": "stream",
     "text": [
      "Mapping for reviews has been created.\n"
     ]
    }
   ],
   "source": [
    "query = \"\"\"\n",
    "    CREATE OR REPLACE MAPPING reviews (\n",
    "        __key VARCHAR,\n",
    "        movie_id INT,\n",
    "        author_name VARCHAR,\n",
    "        author_username VARCHAR,\n",
    "        rating INT,\n",
    "        content VARCHAR\n",
    "    )\n",
    "    TYPE IMap OPTIONS(\n",
    "        'keyFormat' = 'varchar',\n",
    "        'valueFormat' = 'json-flat'\n",
    "    )\n",
    "\"\"\"\n",
    "client.sql.execute(query).result()\n",
    "print(\"Mapping for reviews has been created.\")"
   ]
  },
  {
   "cell_type": "markdown",
   "id": "HD5RBMXzgJAX",
   "metadata": {
    "id": "HD5RBMXzgJAX"
   },
   "source": [
    "# Fun part: SQL queries \n",
    "\n",
    "In the following examples, we will observe different SQL funtions supported by Hazelcast and execute them to process our data quickly. You can edit the queries directly and experiment SQL support hands-on.  Fasten the belts!"
   ]
  },
  {
   "cell_type": "markdown",
   "id": "3f_XzcZaDEP8",
   "metadata": {
    "id": "3f_XzcZaDEP8"
   },
   "source": [
    "## Movies released before 2015 and high vote average with cote count > 20K \n",
    "\n",
    "In this first query, we will use essential features of SQL, like the `WHERE` clause. We have some filters to select movies among 4K entries, like `vote_count`, `vote_average`, and `release_date`. You can use `AS` keyword to specify the column name of result. Without Hazelcast, typically, we need to iterate over our map and check whether the current entry fits into our definition or not. Also, this approach requires an additional structure to store our selected entries. With the inclusive SQL support of Hazelcast, we can translate our filters to a SQL query and execute it on our map. "
   ]
  },
  {
   "cell_type": "code",
   "execution_count": 109,
   "id": "UM4NNInaDrYY",
   "metadata": {
    "id": "UM4NNInaDrYY"
   },
   "outputs": [
    {
     "name": "stdout",
     "output_type": "stream",
     "text": [
      "Avatar\n",
      "Harry Potter and the Philosopher's Stone\n",
      "The Avengers\n",
      "Titanic\n",
      "The Wolf of Wall Street\n",
      "Interstellar\n",
      "The Lord of the Rings: The Fellowship of the Ring\n",
      "Iron Man\n",
      "Inception\n",
      "Shutter Island\n",
      "The Shawshank Redemption\n",
      "The Matrix\n",
      "The Dark Knight\n",
      "Forrest Gump\n",
      "Guardians of the Galaxy\n",
      "Fight Club\n",
      "Pulp Fiction\n",
      "Django Unchained\n"
     ]
    }
   ],
   "source": [
    "query = \"\"\"\n",
    "    SELECT m.title AS name\n",
    "    FROM movies m\n",
    "    WHERE m.vote_count > 20000 AND m.vote_average > 7 AND m.release_date < '2015-01-01'\n",
    "    ORDER BY m.popularity DESC\n",
    "\"\"\"\n",
    "\n",
    "result = client.sql.execute(query).result()\n",
    "\n",
    "for row in result:\n",
    "    print(row['name'])"
   ]
  },
  {
   "cell_type": "markdown",
   "id": "b723d7c6",
   "metadata": {
    "id": "b723d7c6"
   },
   "source": [
    "## Here all-star cast movies for you\n",
    "\n",
    "Sometimes you may want to watch a movie with many star actors! Easy to find those movies among thousands of entries! You need to `JOIN` your two maps on `movie id` and filter those with a total actor popularity point larger than 500. You can use `SUM()` function to find the total value of a column for a group, in this case, for every movie since we are grouping according to `title` of movie. You don't have to deal with any loops, control statements, or additional storage!</br>\n",
    "\n",
    "Spoiler alert! There are many super hero movie 🚀"
   ]
  },
  {
   "cell_type": "code",
   "execution_count": 108,
   "id": "72590aca",
   "metadata": {
    "id": "72590aca",
    "outputId": "1cd29069-fe2d-4866-bc35-4e94d5c3aa3f"
   },
   "outputs": [
    {
     "name": "stdout",
     "output_type": "stream",
     "text": [
      "Captain America: Civil War\n",
      "Deadpool 2\n",
      "Blade Runner 2049\n",
      "The Dark Knight\n",
      "Guardians of the Galaxy\n",
      "Once Upon a Time… in Hollywood\n",
      "Star Wars: The Force Awakens\n",
      "Avengers: Endgame\n",
      "The Avengers\n",
      "The Dark Knight Rises\n",
      "Fantastic Beasts and Where to Find Them\n",
      "Avengers: Age of Ultron\n",
      "Avengers: Infinity War\n",
      "Inception\n",
      "Thor: Ragnarok\n"
     ]
    }
   ],
   "source": [
    "query = \"\"\"\n",
    "    SELECT m.original_title as movieName\n",
    "    FROM movies m\n",
    "    JOIN casts c ON m.id = c.movie_id\n",
    "    JOIN actors a ON c.actor_id = a.id\n",
    "    GROUP BY m.original_title\n",
    "    HAVING SUM(a.popularity) > 400\n",
    "\"\"\"\n",
    "\n",
    "result = client.sql.execute(query).result()\n",
    "\n",
    "for row in result:\n",
    "        print(row['movieName'])"
   ]
  },
  {
   "cell_type": "markdown",
   "id": "d2df3b81",
   "metadata": {
    "id": "d2df3b81"
   },
   "source": [
    "## Get all the actors of a movie serie\n",
    "\n",
    "In our map, we have series that have more than one movie and we have registered actors for each of these movies. Some of the actors are registered for multiple of them, like Daniel Radcliffe and Emma Watson. So, we will use `DISTINCT()` function to select each of them only once and get all the registered actor list. The tricky part in here is joining all the three maps and get the registered movies that contain `Harry Potter` inside name. If we try to do in plain code, you need to select whether the current actor is registered for a movie name contain `Harry Potter` and then re-control whether it has been added before, nearly `O(n^3)` complexity!"
   ]
  },
  {
   "cell_type": "code",
   "execution_count": 102,
   "id": "38057523",
   "metadata": {
    "id": "38057523",
    "scrolled": true
   },
   "outputs": [
    {
     "name": "stdout",
     "output_type": "stream",
     "text": [
      "Ralph Fiennes 52.65\n",
      "David Thewlis 50.89\n",
      "Robert Pattinson 46.79\n",
      "Emma Watson 43.43\n",
      "Helena Bonham Carter 42.64\n",
      "Jamie Campbell Bower 39.72\n",
      "Gary Oldman 38.59\n",
      "David Tennant 37.05\n",
      "Fiona Shaw 35.79\n",
      "Bill Nighy 35.51\n",
      "J.K. Rowling 34.76\n",
      "Daniel Radcliffe 32.29\n",
      "Helen McCrory 31.38\n",
      "Kenneth Branagh 30.93\n",
      "Ciarán Hinds 29.86\n",
      "Brendan Gleeson 29.39\n",
      "Rhys Ifans 28.78\n",
      "Domhnall Gleeson 28.30\n",
      "Natalia Tena 28.20\n",
      "Hero Fiennes Tiffin 27.43\n",
      "Emma Thompson 26.33\n",
      "Julianne Hough 25.64\n",
      "Harry Melling 24.76\n",
      "Jason Isaacs 24.45\n",
      "Frank Dillane 24.31\n",
      "Michael Gambon 24.19\n",
      "Pam Ferris 23.96\n",
      "David Yates 23.67\n",
      "Shirley Henderson 22.86\n",
      "Elarica Johnson 22.52\n",
      "Michelle Fairley 18.86\n",
      "Peter Mullan 15.76\n"
     ]
    }
   ],
   "source": [
    "query = \"\"\"\n",
    "    SELECT DISTINCT(a.name), a.popularity\n",
    "    FROM movies m\n",
    "    JOIN casts c ON m.id = c.movie_id\n",
    "    JOIN actors a ON c.actor_id = a.id\n",
    "    WHERE m.original_title LIKE '%Harry Potter%'\n",
    "    ORDER BY a.popularity DESC\n",
    "\"\"\"\n",
    "\n",
    "result = client.sql.execute(query).result()\n",
    "\n",
    "for row in result:\n",
    "        print(\"%s %.2f\" % (row['name'], row['popularity']))"
   ]
  },
  {
   "cell_type": "markdown",
   "id": "adfFIkzD2Ns6",
   "metadata": {
    "id": "adfFIkzD2Ns6"
   },
   "source": [
    "## Get the movies that get the highest review ratings from users\n",
    "\n",
    "Now, we will try to get the top ten movies with average ratings higher than eight and at least reviewed by five different users. Note that `reviews` are separate map and different than `vote` which is a column of `movies` table. It looks complicated, right? Typically, you must traverse the two maps in order square. First, get all the reviews for a movie, calculate the average rating, store results in another data structure, and repeat it for all the movies. In the end, you must sort the results in descending order and get the highest ten movies.\n",
    "\n",
    "Don't give up, we are there for you! Using the Hazelcast SQL support, you can use the power of SQL functions and aggregate operations like `ORDER BY()`, `LIMIT()`, and `AVG()` on your Map! You need to write your SQL query as a string and then execute it on your map with just one line, `sql.Execute()`. It's that easy! This operation returns a table, which consists of rows. You can traverse inside results by a simple `for` loop."
   ]
  },
  {
   "cell_type": "code",
   "execution_count": 110,
   "id": "5qSGE-17gP0i",
   "metadata": {
    "id": "5qSGE-17gP0i"
   },
   "outputs": [
    {
     "name": "stdout",
     "output_type": "stream",
     "text": [
      "Movie Name: The Shawshank Redemption - Average Rating: 9.00\n",
      "Movie Name: Django Unchained - Average Rating: 9.00\n",
      "Movie Name: The Shining - Average Rating: 9.00\n",
      "Movie Name: 기생충 - Average Rating: 8.86\n",
      "Movie Name: The Lord of the Rings: The Fellowship of the Ring - Average Rating: 8.86\n",
      "Movie Name: Il buono, il brutto, il cattivo - Average Rating: 8.67\n",
      "Movie Name: Soul - Average Rating: 8.50\n",
      "Movie Name: Joker - Average Rating: 8.50\n",
      "Movie Name: Interstellar - Average Rating: 8.45\n",
      "Movie Name: Green Book - Average Rating: 8.40\n"
     ]
    }
   ],
   "source": [
    "query = \"\"\"\n",
    "    SELECT m.original_title as name, AVG(r.rating) as rating\n",
    "    FROM movies m\n",
    "    JOIN reviews r ON r.movie_id = m.id\n",
    "    GROUP BY m.original_title\n",
    "    HAVING AVG(r.rating) > 8 AND COUNT(*) > 5\n",
    "    ORDER BY rating DESC\n",
    "    LIMIT 10\n",
    "\"\"\"\n",
    "\n",
    "result = client.sql.execute(query).result()\n",
    "\n",
    "for row in result:\n",
    "        print(\"Movie Name: %s - Average Rating: %.2f\" % (row['name'], row.get_object('rating')))"
   ]
  },
  {
   "cell_type": "markdown",
   "id": "bfdde3df",
   "metadata": {
    "id": "bfdde3df"
   },
   "source": [
    "## Curious about user reviews?\n",
    "\n",
    "There are many detailed reviews in our database. You can find a randomly selected entry for a movie or actor you are curious about. You can use the `LIKE` keyword for searching a specific keyword in our Map. For example, we searched for entries about Leanardo DiCaprio and got one between them randomly using the `RAND()` function. You can increase `LIMIT` to get more reviews and add multiple keywords. \n",
    "\n",
    "You can try the same thing with movie descriptions to find a specific movie informations, just use `movie.description` column!"
   ]
  },
  {
   "cell_type": "code",
   "execution_count": 64,
   "id": "e92dbf0a",
   "metadata": {
    "id": "e92dbf0a",
    "scrolled": true
   },
   "outputs": [
    {
     "name": "stdout",
     "output_type": "stream",
     "text": [
      "Movie name: Avengers: Endgame\n",
      "------------------------------------------------------------\n",
      "Review by Ruuz rating is 9/10\n",
      "------------------------------------------------------------\n",
      "Hey, so, just some really quick thoughts I wanna get down, 'cause it's after 1 o'clock in the morning, and I wanna get some sleep so I can wake up well rested to see _Endgame_ again.\r\n",
      "\r\n",
      "Putting it out there right from the get-go, _Avengers: Endgame_ is my favourite MCU movie. It's my favourite movie of the year too, but I've only seen like ten or so 2019 releases, and this is the 22nd Marvel Cinematic Universe film, so that seems far and away the bigger deal. I can't say it's perfect, there's some conflicting stuff within its own runtime that really doesn't seem to gel (though a re-watch may prove me wrong on that), and it's not like every moment was the no-holds-barred-zero-exception best version of that moment from start to end. But God I loved this thing.\r\n",
      "\r\n",
      "I will say this though, the reason that I loved it, is this thing is fan service galore. If you do not care for the franchise's 21 movies preceding this point, then _Endgame_ is not the movie to turn you around on that. That may come in a future installment, but this one is a culmination. It's the end of _Infinity War_ but also Phase 3, but also a wrap-up and genuine ode to/send off for everything that Marvel has done over the past 11 years. That to me was incredible, and I am eternally greatful, but I cannot imagine it working for people who have no vested interest in these characters.\r\n",
      "\r\n",
      "To me though? My first 9 out of 10 rating in **three years**.\r\n",
      "\r\n",
      "_Final rating:★★★★½ - Ridiculously strong appeal. I can’t stop thinking about it._\n"
     ]
    }
   ],
   "source": [
    "query = \"\"\"\n",
    "    SELECT m.original_title, r.author_username, r.rating, r.content\n",
    "    FROM movies m, reviews r\n",
    "    WHERE r.movie_id=m.id AND \n",
    "          r.content LIKE '%Avengers%' AND \n",
    "          r.rating IS NOT NULL\n",
    "    ORDER BY RAND()\n",
    "    LIMIT 1\n",
    "\"\"\"\n",
    "\n",
    "result = client.sql.execute(query).result()\n",
    "\n",
    "for row in result:\n",
    "        print(\"Movie name: %s\" % row.get_object('original_title'))\n",
    "        print(\"-\"*60)\n",
    "        print(\"Review by %s rating is %d/10\" % (row.get_object('author_username'), row.get_object('rating')))\n",
    "        print(\"-\"*60)\n",
    "        print(row.get_object('content'))"
   ]
  },
  {
   "cell_type": "markdown",
   "id": "d5765a4e",
   "metadata": {},
   "source": [
    "# Conculusion"
   ]
  },
  {
   "cell_type": "markdown",
   "id": "41f9ffff",
   "metadata": {},
   "source": [
    "These days the world is data heaven, and we have millions of data. Most of them are wasted due to the high workload of processing them. As you can see from the examples, even if it is a simple map search, the algorithmic complexity and effort to execute the filter are tremendous. Hazelcast offers a simple solution to evaluate and process all your data more easily and quickly as a real-time data processing platform. Using Hazelcast's SQL engine, you can skip all of the details and directly work on the value of your customer's data. You can infer much information without dealing with hundreds of line codes and slow executions.\n",
    "\n",
    "You can follow our website and participate in many educational events. Also, we would love to answer your questions over our Community Slack Channel:"
   ]
  }
 ],
 "metadata": {
  "colab": {
   "collapsed_sections": [],
   "name": "Hazelcast Python Client SQL Notebook - Movie Scenario.ipynb",
   "provenance": []
  },
  "kernelspec": {
   "display_name": "Python 3 (ipykernel)",
   "language": "python",
   "name": "python3"
  },
  "language_info": {
   "codemirror_mode": {
    "name": "ipython",
    "version": 3
   },
   "file_extension": ".py",
   "mimetype": "text/x-python",
   "name": "python",
   "nbconvert_exporter": "python",
   "pygments_lexer": "ipython3",
   "version": "3.10.5"
  }
 },
 "nbformat": 4,
 "nbformat_minor": 5
}
