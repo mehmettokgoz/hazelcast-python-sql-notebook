{
 "cells": [
  {
   "cell_type": "markdown",
   "id": "1a981ad9",
   "metadata": {},
   "source": [
    "# Hazelcast Python Client SQL Support Notebook\n",
    "\n",
    "This notebook shows example usage of Hazelcast Python Client using SQL functions. Hazelcast provides in-depth SQL support for your data kept in Hazelcast clusters. You can create a mapping between a database table and your data resource and execute SQL queries on the map. \n",
    "\n",
    "\n",
    "To simplify setup, this tutorial uses Hazelcast Cloud for the cluster service. Hazelcast Cloud offers free registration with 200MB storage area. You can register the Hazelcast Cloud using following link and create a cluster in few minutes: https://cloud.hazelcast.com/. You can follow this tutorial to create a cluster in Cloud. If you have any issue, you can ask your questions in Hazelcast Community Slack channel. "
   ]
  },
  {
   "cell_type": "markdown",
   "id": "3db99929",
   "metadata": {},
   "source": [
    "![Tux, the Linux mascot](https://media-exp1.licdn.com/dms/image/C561BAQEDzMqseo-qiA/company-background_10000/0/1626235318986?e=2147483647&v=beta&t=9QQp_S3AuK8-1nMqsSTlL0xy2_JpkNQrzFJ7D_SLUYU)\n"
   ]
  },
  {
   "cell_type": "markdown",
   "id": "b8d23d89",
   "metadata": {},
   "source": [
    "After the creation of cluster, we need to connect it with a client program. You can connect to your cluster in six programming languages including Java, .NET, Python, Go+.  To use Hazelcast, you need to have one of the client in your local computer and compile/run your program with it. Following install command downloands Hazelcast Python Client locally if you do not done it before. \n",
    "\n",
    "Also, we will pull over data from an API, and we will send request. So, we need requests module too."
   ]
  },
  {
   "cell_type": "code",
   "execution_count": 51,
   "id": "5f6c24ca",
   "metadata": {},
   "outputs": [
    {
     "name": "stdout",
     "output_type": "stream",
     "text": [
      "/Users/hazelcast/.zshenv:1: no such file or directory: /usr/Desktop/apsoc\n",
      "Requirement already satisfied: hazelcast-python-client in /Library/Frameworks/Python.framework/Versions/3.10/lib/python3.10/site-packages (5.1)\n",
      "\u001b[33mWARNING: You are using pip version 22.0.4; however, version 22.2.1 is available.\n",
      "You should consider upgrading via the '/Library/Frameworks/Python.framework/Versions/3.10/bin/python3.10 -m pip install --upgrade pip' command.\u001b[0m\u001b[33m\n",
      "\u001b[0mNote: you may need to restart the kernel to use updated packages.\n",
      "/Users/hazelcast/.zshenv:1: no such file or directory: /usr/Desktop/apsoc\n",
      "Requirement already satisfied: requests in /Library/Frameworks/Python.framework/Versions/3.10/lib/python3.10/site-packages (2.28.1)\n",
      "Requirement already satisfied: certifi>=2017.4.17 in /Library/Frameworks/Python.framework/Versions/3.10/lib/python3.10/site-packages (from requests) (2022.6.15)\n",
      "Requirement already satisfied: idna<4,>=2.5 in /Library/Frameworks/Python.framework/Versions/3.10/lib/python3.10/site-packages (from requests) (3.3)\n",
      "Requirement already satisfied: urllib3<1.27,>=1.21.1 in /Library/Frameworks/Python.framework/Versions/3.10/lib/python3.10/site-packages (from requests) (1.26.11)\n",
      "Requirement already satisfied: charset-normalizer<3,>=2 in /Library/Frameworks/Python.framework/Versions/3.10/lib/python3.10/site-packages (from requests) (2.1.0)\n",
      "\u001b[33mWARNING: You are using pip version 22.0.4; however, version 22.2.1 is available.\n",
      "You should consider upgrading via the '/Library/Frameworks/Python.framework/Versions/3.10/bin/python3.10 -m pip install --upgrade pip' command.\u001b[0m\u001b[33m\n",
      "\u001b[0mNote: you may need to restart the kernel to use updated packages.\n"
     ]
    }
   ],
   "source": [
    "%pip install hazelcast-python-client\n",
    "%pip install requests"
   ]
  },
  {
   "cell_type": "code",
   "execution_count": 1,
   "id": "f734298a",
   "metadata": {},
   "outputs": [],
   "source": [
    "import hazelcast"
   ]
  },
  {
   "cell_type": "code",
   "execution_count": 2,
   "id": "d4ec746f",
   "metadata": {},
   "outputs": [],
   "source": [
    "import requests"
   ]
  },
  {
   "cell_type": "code",
   "execution_count": 3,
   "id": "9ffe450b",
   "metadata": {},
   "outputs": [],
   "source": [
    "from hazelcast.core import HazelcastJsonValue"
   ]
  },
  {
   "cell_type": "code",
   "execution_count": 4,
   "id": "7331209d",
   "metadata": {},
   "outputs": [
    {
     "ename": "SyntaxError",
     "evalue": "invalid decimal literal (3771436916.py, line 1)",
     "output_type": "error",
     "traceback": [
      "\u001b[0;36m  Input \u001b[0;32mIn [4]\u001b[0;36m\u001b[0m\n\u001b[0;31m    https://www.binance.com/api/v3/ticker/24hr,\u001b[0m\n\u001b[0m                                           ^\u001b[0m\n\u001b[0;31mSyntaxError\u001b[0m\u001b[0;31m:\u001b[0m invalid decimal literal\n"
     ]
    }
   ],
   "source": [
    "https://www.binance.com/api/v3/ticker/24hr,\n",
    "    "
   ]
  },
  {
   "cell_type": "code",
   "execution_count": 8,
   "id": "6c87a72d",
   "metadata": {},
   "outputs": [
    {
     "name": "stdout",
     "output_type": "stream",
     "text": [
      "Connection successfull.\n"
     ]
    }
   ],
   "source": [
    "client = hazelcast.HazelcastClient()\n",
    "\n",
    "print(\"Connection successfull.\")"
   ]
  },
  {
   "cell_type": "code",
   "execution_count": null,
   "id": "5c415dfe",
   "metadata": {},
   "outputs": [],
   "source": []
  },
  {
   "cell_type": "code",
   "execution_count": 9,
   "id": "acf08feb",
   "metadata": {},
   "outputs": [],
   "source": [
    "prices = client.get_map(\"prices\").blocking()"
   ]
  },
  {
   "cell_type": "code",
   "execution_count": 50,
   "id": "c5922c15",
   "metadata": {},
   "outputs": [],
   "source": [
    "def create_mapping(hz_client):\n",
    "    # see: https://docs.hazelcast.com/hazelcast/5.0/sql/mapping-to-maps#json-objects\n",
    "    print(\"Creating mapping for countries...\")\n",
    "\n",
    "    mapping_query = \"\"\"\n",
    "        CREATE OR REPLACE MAPPING prices (\n",
    "            __key VARCHAR, \n",
    "            symbol VARCHAR,\n",
    "            priceChange DOUBLE,\n",
    "            priceChangePercent DECIMAL,\n",
    "            weightedAvgPrice DECIMAL,\n",
    "            prevClosePrice DECIMAL,\n",
    "            lastPrice DECIMAL,\n",
    "            lastQty DECIMAL,\n",
    "            bidPrice DECIMAL,\n",
    "            bidQty DECIMAL,\n",
    "            askPrice DECIMAL,\n",
    "            askQty DECIMAL,\n",
    "            openPrice DECIMAL,\n",
    "            highPrice DECIMAL,\n",
    "            lowPrice DECIMAL,\n",
    "            volume VARCHAR,\n",
    "            quoteVolume VARCHAR,\n",
    "            openTime BIGINT,\n",
    "            closeTime BIGINT,\n",
    "            firstId BIGINT,\n",
    "            lastId BIGINT\n",
    "        )\n",
    "        TYPE IMap OPTIONS(\n",
    "            'keyFormat' = 'varchar',\n",
    "            'valueFormat' = 'json-flat'\n",
    "        )\n",
    "    \"\"\"\n",
    "    hz_client.sql.execute(mapping_query).result()\n",
    "    print(\"Mapping for countries has been created.\")\n",
    "    print(\"--------------------\")\n"
   ]
  },
  {
   "cell_type": "code",
   "execution_count": 49,
   "id": "d40452d2",
   "metadata": {},
   "outputs": [
    {
     "name": "stdout",
     "output_type": "stream",
     "text": [
      "Creating mapping for countries...\n",
      "Mapping for countries has been created.\n",
      "--------------------\n"
     ]
    }
   ],
   "source": [
    "create_mapping(client)"
   ]
  },
  {
   "cell_type": "code",
   "execution_count": 28,
   "id": "5b84720d",
   "metadata": {},
   "outputs": [],
   "source": [
    "def load_people(mp):\n",
    "    x = requests.get('https://www.binance.com/api/v3/ticker/24hr')\n",
    "    data = x.json()\n",
    "    i = 0;\n",
    "    for f in data:\n",
    "        prices.put(str(i), HazelcastJsonValue(f))\n",
    "        i += 1\n",
    "        if (i % 100 == 0):\n",
    "            print(i)\n",
    "            \n",
    "    print(\"Data has been loaded.\")"
   ]
  },
  {
   "cell_type": "code",
   "execution_count": 23,
   "id": "40d014d2",
   "metadata": {},
   "outputs": [
    {
     "name": "stdout",
     "output_type": "stream",
     "text": [
      "100\n",
      "200\n",
      "300\n",
      "400\n",
      "500\n",
      "600\n",
      "700\n",
      "800\n",
      "900\n",
      "1000\n",
      "1100\n",
      "1200\n",
      "1300\n",
      "1400\n",
      "1500\n",
      "1600\n",
      "1700\n",
      "1800\n",
      "1900\n",
      "2000\n",
      "Data has been loaded.\n"
     ]
    }
   ],
   "source": [
    "load_people(prices)"
   ]
  },
  {
   "cell_type": "code",
   "execution_count": null,
   "id": "1bf279f9",
   "metadata": {},
   "outputs": [],
   "source": [
    "def load_exchange_info(mp):\n",
    "    x = requests.get('https://www.binance.com/api/v3/ticker/24hr')\n",
    "    data = x.json()\n",
    "    i = 0;\n",
    "    for f in data:\n",
    "        prices.put(str(i), HazelcastJsonValue(f))\n",
    "        i += 1\n",
    "        if (i % 100 == 0):\n",
    "            print(i)\n",
    "            \n",
    "    print(\"Data has been loaded.\")"
   ]
  },
  {
   "cell_type": "code",
   "execution_count": null,
   "id": "c80bba0a",
   "metadata": {},
   "outputs": [],
   "source": []
  }
 ],
 "metadata": {
  "kernelspec": {
   "display_name": "Python 3 (ipykernel)",
   "language": "python",
   "name": "python3"
  },
  "language_info": {
   "codemirror_mode": {
    "name": "ipython",
    "version": 3
   },
   "file_extension": ".py",
   "mimetype": "text/x-python",
   "name": "python",
   "nbconvert_exporter": "python",
   "pygments_lexer": "ipython3",
   "version": "3.10.5"
  }
 },
 "nbformat": 4,
 "nbformat_minor": 5
}
