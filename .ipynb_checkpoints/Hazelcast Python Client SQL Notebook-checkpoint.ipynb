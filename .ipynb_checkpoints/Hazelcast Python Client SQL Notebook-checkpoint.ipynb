{
 "cells": [
  {
   "cell_type": "markdown",
   "id": "833e4837",
   "metadata": {},
   "source": [
    "# Hazelcast Python Client SQL Support Example"
   ]
  },
  {
   "cell_type": "markdown",
   "id": "887e833a",
   "metadata": {},
   "source": [
    "This notebook shows the type of operations you can do on Hazelcast Map using the SQL queries. Hazelcast provides an \n",
    "\n",
    "\n",
    "To use Hazelcast, you must either install Hazelcast 4.x/5.x or use Hazelcast Cloud service to connect. For simplicity, I will be using Cloud. You can start a cluster locally.  "
   ]
  },
  {
   "cell_type": "code",
   "execution_count": 1,
   "id": "1ac0e5af",
   "metadata": {},
   "outputs": [
    {
     "name": "stdout",
     "output_type": "stream",
     "text": [
      "/Users/hazelcast/.zshenv:1: no such file or directory: /usr/Desktop/apsoc\n",
      "Requirement already satisfied: hazelcast-python-client in /Library/Frameworks/Python.framework/Versions/3.10/lib/python3.10/site-packages (5.1)\n",
      "\u001b[33mWARNING: You are using pip version 22.0.4; however, version 22.2.1 is available.\n",
      "You should consider upgrading via the '/Library/Frameworks/Python.framework/Versions/3.10/bin/python3.10 -m pip install --upgrade pip' command.\u001b[0m\u001b[33m\n",
      "\u001b[0mNote: you may need to restart the kernel to use updated packages.\n"
     ]
    }
   ],
   "source": [
    "pip install hazelcast-python-client"
   ]
  },
  {
   "cell_type": "code",
   "execution_count": 2,
   "id": "90cb78ce",
   "metadata": {},
   "outputs": [],
   "source": [
    "import hazelcast\n",
    "from hazelcast.discovery import HazelcastCloudDiscovery"
   ]
  },
  {
   "cell_type": "markdown",
   "id": "27223cee",
   "metadata": {},
   "source": []
  },
  {
   "cell_type": "code",
   "execution_count": null,
   "id": "ed64bb89",
   "metadata": {},
   "outputs": [],
   "source": [
    "client = hazelcast.HazelcastClient(\n",
    "    cluster_name=\"pr-3530\",\n",
    "    cloud_discovery_token=\"3wSrJei2ykNhy28dnEwMEmW4cihNyRAUTMBAwxFvCdl0OqzXvw\",\n",
    "    statistics_enabled=True,\n",
    "    ssl_enabled=True,\n",
    "    ssl_cafile=abspath(\"ca.pem\"),\n",
    "    ssl_certfile=abspath(\"cert.pem\"),\n",
    "    ssl_keyfile=abspath(\"key.pem\"),\n",
    "    ssl_password=\"7c7d4e83dc4\",\n",
    ")"
   ]
  },
  {
   "cell_type": "code",
   "execution_count": 4,
   "id": "793ce8b3",
   "metadata": {},
   "outputs": [
    {
     "data": {
      "text/plain": [
       "True"
      ]
     },
     "execution_count": 4,
     "metadata": {},
     "output_type": "execute_result"
    }
   ],
   "source": [
    "my_map = client.get_map(\"my-distributed-map\").blocking()\n",
    "# Standard Put and Get\n",
    "my_map.put(\"key\", \"value\")\n",
    "my_map.get(\"key\")\n",
    "# Concurrent Map methods, optimistic updating\n",
    "my_map.put_if_absent(\"somekey\", \"somevalue\")\n",
    "my_map.replace_if_same(\"key\", \"value\", \"newvalue\")\n",
    "# Shutdown this Hazelcast Client"
   ]
  },
  {
   "cell_type": "code",
   "execution_count": null,
   "id": "7c252deb",
   "metadata": {},
   "outputs": [],
   "source": []
  }
 ],
 "metadata": {
  "kernelspec": {
   "display_name": "Python 3 (ipykernel)",
   "language": "python",
   "name": "python3"
  },
  "language_info": {
   "codemirror_mode": {
    "name": "ipython",
    "version": 3
   },
   "file_extension": ".py",
   "mimetype": "text/x-python",
   "name": "python",
   "nbconvert_exporter": "python",
   "pygments_lexer": "ipython3",
   "version": "3.10.5"
  }
 },
 "nbformat": 4,
 "nbformat_minor": 5
}
